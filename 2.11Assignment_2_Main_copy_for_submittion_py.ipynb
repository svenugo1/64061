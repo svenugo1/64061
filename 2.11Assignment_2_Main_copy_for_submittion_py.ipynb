{
  "nbformat": 4,
  "nbformat_minor": 0,
  "metadata": {
    "colab": {
      "name": "Assignment 2 - Main copy for submittion.py",
      "provenance": [],
      "collapsed_sections": [],
      "authorship_tag": "ABX9TyNU6LVQR+agQn8U/gVjSNDC",
      "include_colab_link": true
    },
    "kernelspec": {
      "name": "python3",
      "display_name": "Python 3"
    },
    "language_info": {
      "name": "python"
    },
    "accelerator": "GPU"
  },
  "cells": [
    {
      "cell_type": "markdown",
      "metadata": {
        "id": "view-in-github",
        "colab_type": "text"
      },
      "source": [
        "<a href=\"https://colab.research.google.com/github/svenugo1/64061/blob/main/2.11Assignment_2_Main_copy_for_submittion_py.ipynb\" target=\"_parent\"><img src=\"https://colab.research.google.com/assets/colab-badge.svg\" alt=\"Open In Colab\"/></a>"
      ]
    },
    {
      "cell_type": "code",
      "execution_count": 1,
      "metadata": {
        "colab": {
          "resources": {
            "http://localhost:8080/nbextensions/google.colab/files.js": {
              "data": "Ly8gQ29weXJpZ2h0IDIwMTcgR29vZ2xlIExMQwovLwovLyBMaWNlbnNlZCB1bmRlciB0aGUgQXBhY2hlIExpY2Vuc2UsIFZlcnNpb24gMi4wICh0aGUgIkxpY2Vuc2UiKTsKLy8geW91IG1heSBub3QgdXNlIHRoaXMgZmlsZSBleGNlcHQgaW4gY29tcGxpYW5jZSB3aXRoIHRoZSBMaWNlbnNlLgovLyBZb3UgbWF5IG9idGFpbiBhIGNvcHkgb2YgdGhlIExpY2Vuc2UgYXQKLy8KLy8gICAgICBodHRwOi8vd3d3LmFwYWNoZS5vcmcvbGljZW5zZXMvTElDRU5TRS0yLjAKLy8KLy8gVW5sZXNzIHJlcXVpcmVkIGJ5IGFwcGxpY2FibGUgbGF3IG9yIGFncmVlZCB0byBpbiB3cml0aW5nLCBzb2Z0d2FyZQovLyBkaXN0cmlidXRlZCB1bmRlciB0aGUgTGljZW5zZSBpcyBkaXN0cmlidXRlZCBvbiBhbiAiQVMgSVMiIEJBU0lTLAovLyBXSVRIT1VUIFdBUlJBTlRJRVMgT1IgQ09ORElUSU9OUyBPRiBBTlkgS0lORCwgZWl0aGVyIGV4cHJlc3Mgb3IgaW1wbGllZC4KLy8gU2VlIHRoZSBMaWNlbnNlIGZvciB0aGUgc3BlY2lmaWMgbGFuZ3VhZ2UgZ292ZXJuaW5nIHBlcm1pc3Npb25zIGFuZAovLyBsaW1pdGF0aW9ucyB1bmRlciB0aGUgTGljZW5zZS4KCi8qKgogKiBAZmlsZW92ZXJ2aWV3IEhlbHBlcnMgZm9yIGdvb2dsZS5jb2xhYiBQeXRob24gbW9kdWxlLgogKi8KKGZ1bmN0aW9uKHNjb3BlKSB7CmZ1bmN0aW9uIHNwYW4odGV4dCwgc3R5bGVBdHRyaWJ1dGVzID0ge30pIHsKICBjb25zdCBlbGVtZW50ID0gZG9jdW1lbnQuY3JlYXRlRWxlbWVudCgnc3BhbicpOwogIGVsZW1lbnQudGV4dENvbnRlbnQgPSB0ZXh0OwogIGZvciAoY29uc3Qga2V5IG9mIE9iamVjdC5rZXlzKHN0eWxlQXR0cmlidXRlcykpIHsKICAgIGVsZW1lbnQuc3R5bGVba2V5XSA9IHN0eWxlQXR0cmlidXRlc1trZXldOwogIH0KICByZXR1cm4gZWxlbWVudDsKfQoKLy8gTWF4IG51bWJlciBvZiBieXRlcyB3aGljaCB3aWxsIGJlIHVwbG9hZGVkIGF0IGEgdGltZS4KY29uc3QgTUFYX1BBWUxPQURfU0laRSA9IDEwMCAqIDEwMjQ7CgpmdW5jdGlvbiBfdXBsb2FkRmlsZXMoaW5wdXRJZCwgb3V0cHV0SWQpIHsKICBjb25zdCBzdGVwcyA9IHVwbG9hZEZpbGVzU3RlcChpbnB1dElkLCBvdXRwdXRJZCk7CiAgY29uc3Qgb3V0cHV0RWxlbWVudCA9IGRvY3VtZW50LmdldEVsZW1lbnRCeUlkKG91dHB1dElkKTsKICAvLyBDYWNoZSBzdGVwcyBvbiB0aGUgb3V0cHV0RWxlbWVudCB0byBtYWtlIGl0IGF2YWlsYWJsZSBmb3IgdGhlIG5leHQgY2FsbAogIC8vIHRvIHVwbG9hZEZpbGVzQ29udGludWUgZnJvbSBQeXRob24uCiAgb3V0cHV0RWxlbWVudC5zdGVwcyA9IHN0ZXBzOwoKICByZXR1cm4gX3VwbG9hZEZpbGVzQ29udGludWUob3V0cHV0SWQpOwp9CgovLyBUaGlzIGlzIHJvdWdobHkgYW4gYXN5bmMgZ2VuZXJhdG9yIChub3Qgc3VwcG9ydGVkIGluIHRoZSBicm93c2VyIHlldCksCi8vIHdoZXJlIHRoZXJlIGFyZSBtdWx0aXBsZSBhc3luY2hyb25vdXMgc3RlcHMgYW5kIHRoZSBQeXRob24gc2lkZSBpcyBnb2luZwovLyB0byBwb2xsIGZvciBjb21wbGV0aW9uIG9mIGVhY2ggc3RlcC4KLy8gVGhpcyB1c2VzIGEgUHJvbWlzZSB0byBibG9jayB0aGUgcHl0aG9uIHNpZGUgb24gY29tcGxldGlvbiBvZiBlYWNoIHN0ZXAsCi8vIHRoZW4gcGFzc2VzIHRoZSByZXN1bHQgb2YgdGhlIHByZXZpb3VzIHN0ZXAgYXMgdGhlIGlucHV0IHRvIHRoZSBuZXh0IHN0ZXAuCmZ1bmN0aW9uIF91cGxvYWRGaWxlc0NvbnRpbnVlKG91dHB1dElkKSB7CiAgY29uc3Qgb3V0cHV0RWxlbWVudCA9IGRvY3VtZW50LmdldEVsZW1lbnRCeUlkKG91dHB1dElkKTsKICBjb25zdCBzdGVwcyA9IG91dHB1dEVsZW1lbnQuc3RlcHM7CgogIGNvbnN0IG5leHQgPSBzdGVwcy5uZXh0KG91dHB1dEVsZW1lbnQubGFzdFByb21pc2VWYWx1ZSk7CiAgcmV0dXJuIFByb21pc2UucmVzb2x2ZShuZXh0LnZhbHVlLnByb21pc2UpLnRoZW4oKHZhbHVlKSA9PiB7CiAgICAvLyBDYWNoZSB0aGUgbGFzdCBwcm9taXNlIHZhbHVlIHRvIG1ha2UgaXQgYXZhaWxhYmxlIHRvIHRoZSBuZXh0CiAgICAvLyBzdGVwIG9mIHRoZSBnZW5lcmF0b3IuCiAgICBvdXRwdXRFbGVtZW50Lmxhc3RQcm9taXNlVmFsdWUgPSB2YWx1ZTsKICAgIHJldHVybiBuZXh0LnZhbHVlLnJlc3BvbnNlOwogIH0pOwp9CgovKioKICogR2VuZXJhdG9yIGZ1bmN0aW9uIHdoaWNoIGlzIGNhbGxlZCBiZXR3ZWVuIGVhY2ggYXN5bmMgc3RlcCBvZiB0aGUgdXBsb2FkCiAqIHByb2Nlc3MuCiAqIEBwYXJhbSB7c3RyaW5nfSBpbnB1dElkIEVsZW1lbnQgSUQgb2YgdGhlIGlucHV0IGZpbGUgcGlja2VyIGVsZW1lbnQuCiAqIEBwYXJhbSB7c3RyaW5nfSBvdXRwdXRJZCBFbGVtZW50IElEIG9mIHRoZSBvdXRwdXQgZGlzcGxheS4KICogQHJldHVybiB7IUl0ZXJhYmxlPCFPYmplY3Q+fSBJdGVyYWJsZSBvZiBuZXh0IHN0ZXBzLgogKi8KZnVuY3Rpb24qIHVwbG9hZEZpbGVzU3RlcChpbnB1dElkLCBvdXRwdXRJZCkgewogIGNvbnN0IGlucHV0RWxlbWVudCA9IGRvY3VtZW50LmdldEVsZW1lbnRCeUlkKGlucHV0SWQpOwogIGlucHV0RWxlbWVudC5kaXNhYmxlZCA9IGZhbHNlOwoKICBjb25zdCBvdXRwdXRFbGVtZW50ID0gZG9jdW1lbnQuZ2V0RWxlbWVudEJ5SWQob3V0cHV0SWQpOwogIG91dHB1dEVsZW1lbnQuaW5uZXJIVE1MID0gJyc7CgogIGNvbnN0IHBpY2tlZFByb21pc2UgPSBuZXcgUHJvbWlzZSgocmVzb2x2ZSkgPT4gewogICAgaW5wdXRFbGVtZW50LmFkZEV2ZW50TGlzdGVuZXIoJ2NoYW5nZScsIChlKSA9PiB7CiAgICAgIHJlc29sdmUoZS50YXJnZXQuZmlsZXMpOwogICAgfSk7CiAgfSk7CgogIGNvbnN0IGNhbmNlbCA9IGRvY3VtZW50LmNyZWF0ZUVsZW1lbnQoJ2J1dHRvbicpOwogIGlucHV0RWxlbWVudC5wYXJlbnRFbGVtZW50LmFwcGVuZENoaWxkKGNhbmNlbCk7CiAgY2FuY2VsLnRleHRDb250ZW50ID0gJ0NhbmNlbCB1cGxvYWQnOwogIGNvbnN0IGNhbmNlbFByb21pc2UgPSBuZXcgUHJvbWlzZSgocmVzb2x2ZSkgPT4gewogICAgY2FuY2VsLm9uY2xpY2sgPSAoKSA9PiB7CiAgICAgIHJlc29sdmUobnVsbCk7CiAgICB9OwogIH0pOwoKICAvLyBXYWl0IGZvciB0aGUgdXNlciB0byBwaWNrIHRoZSBmaWxlcy4KICBjb25zdCBmaWxlcyA9IHlpZWxkIHsKICAgIHByb21pc2U6IFByb21pc2UucmFjZShbcGlja2VkUHJvbWlzZSwgY2FuY2VsUHJvbWlzZV0pLAogICAgcmVzcG9uc2U6IHsKICAgICAgYWN0aW9uOiAnc3RhcnRpbmcnLAogICAgfQogIH07CgogIGNhbmNlbC5yZW1vdmUoKTsKCiAgLy8gRGlzYWJsZSB0aGUgaW5wdXQgZWxlbWVudCBzaW5jZSBmdXJ0aGVyIHBpY2tzIGFyZSBub3QgYWxsb3dlZC4KICBpbnB1dEVsZW1lbnQuZGlzYWJsZWQgPSB0cnVlOwoKICBpZiAoIWZpbGVzKSB7CiAgICByZXR1cm4gewogICAgICByZXNwb25zZTogewogICAgICAgIGFjdGlvbjogJ2NvbXBsZXRlJywKICAgICAgfQogICAgfTsKICB9CgogIGZvciAoY29uc3QgZmlsZSBvZiBmaWxlcykgewogICAgY29uc3QgbGkgPSBkb2N1bWVudC5jcmVhdGVFbGVtZW50KCdsaScpOwogICAgbGkuYXBwZW5kKHNwYW4oZmlsZS5uYW1lLCB7Zm9udFdlaWdodDogJ2JvbGQnfSkpOwogICAgbGkuYXBwZW5kKHNwYW4oCiAgICAgICAgYCgke2ZpbGUudHlwZSB8fCAnbi9hJ30pIC0gJHtmaWxlLnNpemV9IGJ5dGVzLCBgICsKICAgICAgICBgbGFzdCBtb2RpZmllZDogJHsKICAgICAgICAgICAgZmlsZS5sYXN0TW9kaWZpZWREYXRlID8gZmlsZS5sYXN0TW9kaWZpZWREYXRlLnRvTG9jYWxlRGF0ZVN0cmluZygpIDoKICAgICAgICAgICAgICAgICAgICAgICAgICAgICAgICAgICAgJ24vYSd9IC0gYCkpOwogICAgY29uc3QgcGVyY2VudCA9IHNwYW4oJzAlIGRvbmUnKTsKICAgIGxpLmFwcGVuZENoaWxkKHBlcmNlbnQpOwoKICAgIG91dHB1dEVsZW1lbnQuYXBwZW5kQ2hpbGQobGkpOwoKICAgIGNvbnN0IGZpbGVEYXRhUHJvbWlzZSA9IG5ldyBQcm9taXNlKChyZXNvbHZlKSA9PiB7CiAgICAgIGNvbnN0IHJlYWRlciA9IG5ldyBGaWxlUmVhZGVyKCk7CiAgICAgIHJlYWRlci5vbmxvYWQgPSAoZSkgPT4gewogICAgICAgIHJlc29sdmUoZS50YXJnZXQucmVzdWx0KTsKICAgICAgfTsKICAgICAgcmVhZGVyLnJlYWRBc0FycmF5QnVmZmVyKGZpbGUpOwogICAgfSk7CiAgICAvLyBXYWl0IGZvciB0aGUgZGF0YSB0byBiZSByZWFkeS4KICAgIGxldCBmaWxlRGF0YSA9IHlpZWxkIHsKICAgICAgcHJvbWlzZTogZmlsZURhdGFQcm9taXNlLAogICAgICByZXNwb25zZTogewogICAgICAgIGFjdGlvbjogJ2NvbnRpbnVlJywKICAgICAgfQogICAgfTsKCiAgICAvLyBVc2UgYSBjaHVua2VkIHNlbmRpbmcgdG8gYXZvaWQgbWVzc2FnZSBzaXplIGxpbWl0cy4gU2VlIGIvNjIxMTU2NjAuCiAgICBsZXQgcG9zaXRpb24gPSAwOwogICAgZG8gewogICAgICBjb25zdCBsZW5ndGggPSBNYXRoLm1pbihmaWxlRGF0YS5ieXRlTGVuZ3RoIC0gcG9zaXRpb24sIE1BWF9QQVlMT0FEX1NJWkUpOwogICAgICBjb25zdCBjaHVuayA9IG5ldyBVaW50OEFycmF5KGZpbGVEYXRhLCBwb3NpdGlvbiwgbGVuZ3RoKTsKICAgICAgcG9zaXRpb24gKz0gbGVuZ3RoOwoKICAgICAgY29uc3QgYmFzZTY0ID0gYnRvYShTdHJpbmcuZnJvbUNoYXJDb2RlLmFwcGx5KG51bGwsIGNodW5rKSk7CiAgICAgIHlpZWxkIHsKICAgICAgICByZXNwb25zZTogewogICAgICAgICAgYWN0aW9uOiAnYXBwZW5kJywKICAgICAgICAgIGZpbGU6IGZpbGUubmFtZSwKICAgICAgICAgIGRhdGE6IGJhc2U2NCwKICAgICAgICB9LAogICAgICB9OwoKICAgICAgbGV0IHBlcmNlbnREb25lID0gZmlsZURhdGEuYnl0ZUxlbmd0aCA9PT0gMCA/CiAgICAgICAgICAxMDAgOgogICAgICAgICAgTWF0aC5yb3VuZCgocG9zaXRpb24gLyBmaWxlRGF0YS5ieXRlTGVuZ3RoKSAqIDEwMCk7CiAgICAgIHBlcmNlbnQudGV4dENvbnRlbnQgPSBgJHtwZXJjZW50RG9uZX0lIGRvbmVgOwoKICAgIH0gd2hpbGUgKHBvc2l0aW9uIDwgZmlsZURhdGEuYnl0ZUxlbmd0aCk7CiAgfQoKICAvLyBBbGwgZG9uZS4KICB5aWVsZCB7CiAgICByZXNwb25zZTogewogICAgICBhY3Rpb246ICdjb21wbGV0ZScsCiAgICB9CiAgfTsKfQoKc2NvcGUuZ29vZ2xlID0gc2NvcGUuZ29vZ2xlIHx8IHt9OwpzY29wZS5nb29nbGUuY29sYWIgPSBzY29wZS5nb29nbGUuY29sYWIgfHwge307CnNjb3BlLmdvb2dsZS5jb2xhYi5fZmlsZXMgPSB7CiAgX3VwbG9hZEZpbGVzLAogIF91cGxvYWRGaWxlc0NvbnRpbnVlLAp9Owp9KShzZWxmKTsK",
              "ok": true,
              "headers": [
                [
                  "content-type",
                  "application/javascript"
                ]
              ],
              "status": 200,
              "status_text": ""
            }
          },
          "base_uri": "https://localhost:8080/",
          "height": 91
        },
        "id": "zDTYkLP9AzlO",
        "outputId": "bb93bc17-8116-4e4d-db28-b1198c8b4ec8"
      },
      "outputs": [
        {
          "output_type": "display_data",
          "data": {
            "text/plain": [
              "<IPython.core.display.HTML object>"
            ],
            "text/html": [
              "\n",
              "     <input type=\"file\" id=\"files-6489dfe8-37fe-400a-81c7-45afdbbe6ff2\" name=\"files[]\" multiple disabled\n",
              "        style=\"border:none\" />\n",
              "     <output id=\"result-6489dfe8-37fe-400a-81c7-45afdbbe6ff2\">\n",
              "      Upload widget is only available when the cell has been executed in the\n",
              "      current browser session. Please rerun this cell to enable.\n",
              "      </output>\n",
              "      <script src=\"/nbextensions/google.colab/files.js\"></script> "
            ]
          },
          "metadata": {}
        },
        {
          "output_type": "stream",
          "name": "stdout",
          "text": [
            "Saving kaggle.json to kaggle.json\n"
          ]
        },
        {
          "output_type": "execute_result",
          "data": {
            "text/plain": [
              "{'kaggle.json': b'{\"username\":\"samiksha23\",\"key\":\"d03ad5f3f187f0a119725ca9ba3cfc15\"}'}"
            ]
          },
          "metadata": {},
          "execution_count": 1
        }
      ],
      "source": [
        "from google.colab import files\n",
        "files.upload()\n"
      ]
    },
    {
      "cell_type": "markdown",
      "source": [
        "Loading the data file .\n",
        "This assignment Cats and Dogs are fundamental techniques in deep learning used for classification of images. Using  keras we will build and train a convolution neuro network for classifying of Cats and Dogs. Use of serval techniques like Data auggemnetation. Data auggementation are a technique to reduce overfitting "
      ],
      "metadata": {
        "id": "vjOc_BjtLizQ"
      }
    },
    {
      "cell_type": "code",
      "source": [
        "!mkdir ~/.kaggle\n",
        "!cp kaggle.json ~/.kaggle/\n",
        "!chmod 600 ~/.kaggle/kaggle.json"
      ],
      "metadata": {
        "id": "AvxTjV12A9fH"
      },
      "execution_count": 2,
      "outputs": []
    },
    {
      "cell_type": "code",
      "source": [
        "!kaggle competitions download -c dogs-vs-cats"
      ],
      "metadata": {
        "colab": {
          "base_uri": "https://localhost:8080/"
        },
        "id": "Aaa-ygxDBD66",
        "outputId": "7f4d79f9-ab6b-422a-cd14-df6a3c3bf1af"
      },
      "execution_count": 3,
      "outputs": [
        {
          "output_type": "stream",
          "name": "stdout",
          "text": [
            "Downloading dogs-vs-cats.zip to /content\n",
            " 99% 808M/812M [00:11<00:00, 87.0MB/s]\n",
            "100% 812M/812M [00:12<00:00, 70.8MB/s]\n"
          ]
        }
      ]
    },
    {
      "cell_type": "code",
      "source": [
        "!unzip -qq dogs-vs-cats.zip"
      ],
      "metadata": {
        "id": "RziNPElZBJqi"
      },
      "execution_count": 4,
      "outputs": []
    },
    {
      "cell_type": "code",
      "source": [
        "!unzip -qq test1.zip"
      ],
      "metadata": {
        "id": "2eAvQFiUBO9J"
      },
      "execution_count": 5,
      "outputs": []
    },
    {
      "cell_type": "code",
      "source": [
        "!unzip -qq train.zip"
      ],
      "metadata": {
        "id": "zWM3QDBkBTOu"
      },
      "execution_count": 6,
      "outputs": []
    },
    {
      "cell_type": "markdown",
      "source": [
        "1)Consider the Cats & Dogs example. Start initially with a training sample of 1000, a validation \n",
        "sample of 500, and a test sample of 500 (like in the text). Use any technique to reduce \n",
        "overfitting and improve performance in developing a network that you train from scratch. What \n",
        "performance did you achieve?  "
      ],
      "metadata": {
        "id": "0rAe3_IBBYPv"
      }
    },
    {
      "cell_type": "markdown",
      "source": [
        "\n",
        "Showing images to training , validation and test directories "
      ],
      "metadata": {
        "id": "DBmU9lgDNBF5"
      }
    },
    {
      "cell_type": "code",
      "source": [
        "import os, shutil, pathlib\n",
        "\n",
        "original_dir = pathlib.Path(\"train\")\n",
        "new_base_dir = pathlib.Path(\"cats_vs_dogs_small\")\n",
        "\n",
        "def make_subset(subset_name, start_index, end_index):\n",
        "    for category in (\"cat\", \"dog\"):\n",
        "        dir = new_base_dir / subset_name / category\n",
        "        os.makedirs(dir)\n",
        "        fnames = [f\"{category}.{i}.jpg\" for i in range(start_index, end_index)]\n",
        "        for fname in fnames:\n",
        "            shutil.copyfile(src=original_dir / fname,\n",
        "                            dst=dir / fname)\n",
        "#Creating training, Test and validation sets.\n",
        "#Training has 1000 samples, test has 500 samples and validation has 500 samples.\n",
        "make_subset(\"train\", start_index=0, end_index=1000)\n",
        "make_subset(\"validation\", start_index=1000, end_index=1500)\n",
        "make_subset(\"test\", start_index=1500, end_index=2000)"
      ],
      "metadata": {
        "id": "gRPQmO-fBZad"
      },
      "execution_count": 7,
      "outputs": []
    },
    {
      "cell_type": "markdown",
      "source": [
        "Data Preprocessing "
      ],
      "metadata": {
        "id": "5ViiW4ftNpZn"
      }
    },
    {
      "cell_type": "markdown",
      "source": [
        "Converting the data into preprocess tensor before , Building a model.\n",
        "1)Read the pictures\n",
        "2)The Data is in JPEG content into RGB grid of pixels.\n",
        "3)convert these into floating  point tensors\n",
        "4)Resize or Rescaling\n",
        "5) Making them into batches\n"
      ],
      "metadata": {
        "id": "3eaT50sjSmJp"
      }
    },
    {
      "cell_type": "markdown",
      "source": [
        "Using image_dataset_from_directory to read images\n",
        "\n",
        "Note - using this due to running in batches "
      ],
      "metadata": {
        "id": "yIBMazSPVcAp"
      }
    },
    {
      "cell_type": "code",
      "source": [
        "from tensorflow.keras.utils import image_dataset_from_directory\n",
        "\n",
        "train_dataset = image_dataset_from_directory(\n",
        "    new_base_dir / \"train\",\n",
        "    image_size=(180, 180),\n",
        "    batch_size=32)\n",
        "validation_dataset = image_dataset_from_directory(\n",
        "    new_base_dir / \"validation\",\n",
        "    image_size=(180, 180),\n",
        "    batch_size=32)\n",
        "test_dataset = image_dataset_from_directory(\n",
        "    new_base_dir / \"test\",\n",
        "    image_size=(180, 180),\n",
        "    batch_size=32)"
      ],
      "metadata": {
        "colab": {
          "base_uri": "https://localhost:8080/"
        },
        "id": "Be9Xv9B5Bh4c",
        "outputId": "b6def92b-4581-44dc-936e-7c2bd538c1bb"
      },
      "execution_count": 8,
      "outputs": [
        {
          "output_type": "stream",
          "name": "stdout",
          "text": [
            "Found 2000 files belonging to 2 classes.\n",
            "Found 1000 files belonging to 2 classes.\n",
            "Found 1000 files belonging to 2 classes.\n"
          ]
        }
      ]
    },
    {
      "cell_type": "code",
      "source": [
        "import numpy as np\n",
        "import tensorflow as tf\n",
        "random_numbers = np.random.normal(size=(1000, 16))\n",
        "dataset = tf.data.Dataset.from_tensor_slices(random_numbers)"
      ],
      "metadata": {
        "id": "Lt5SAwG9Boq2"
      },
      "execution_count": 9,
      "outputs": []
    },
    {
      "cell_type": "code",
      "source": [
        "for i, element in enumerate(dataset):\n",
        "    print(element.shape)\n",
        "    if i >= 2:\n",
        "        break"
      ],
      "metadata": {
        "colab": {
          "base_uri": "https://localhost:8080/"
        },
        "id": "1hh9YQOlBrzB",
        "outputId": "738618b5-3669-464d-9903-0d9693c8bd36"
      },
      "execution_count": 10,
      "outputs": [
        {
          "output_type": "stream",
          "name": "stdout",
          "text": [
            "(16,)\n",
            "(16,)\n",
            "(16,)\n"
          ]
        }
      ]
    },
    {
      "cell_type": "markdown",
      "source": [
        "\n",
        "Batching the data into batches of size 32\n"
      ],
      "metadata": {
        "id": "IzUtZeXIN-xS"
      }
    },
    {
      "cell_type": "code",
      "source": [
        "batched_dataset = dataset.batch(32)\n",
        "for i, element in enumerate(batched_dataset):\n",
        "    print(element.shape)\n",
        "    if i >= 2:\n",
        "        break"
      ],
      "metadata": {
        "colab": {
          "base_uri": "https://localhost:8080/"
        },
        "id": "GtaMtgx_BxWa",
        "outputId": "93f71535-57f7-408c-fa94-c70e47b519d1"
      },
      "execution_count": 11,
      "outputs": [
        {
          "output_type": "stream",
          "name": "stdout",
          "text": [
            "(32, 16)\n",
            "(32, 16)\n",
            "(32, 16)\n"
          ]
        }
      ]
    },
    {
      "cell_type": "code",
      "source": [
        "reshaped_dataset = dataset.map(lambda x: tf.reshape(x, (4, 4)))\n",
        "for i, element in enumerate(reshaped_dataset):\n",
        "    print(element.shape)\n",
        "    if i >= 2:\n",
        "        break"
      ],
      "metadata": {
        "colab": {
          "base_uri": "https://localhost:8080/"
        },
        "id": "PwVnWutNByyX",
        "outputId": "89c5ddbd-af93-4977-bbff-b82553150f0c"
      },
      "execution_count": 12,
      "outputs": [
        {
          "output_type": "stream",
          "name": "stdout",
          "text": [
            "(4, 4)\n",
            "(4, 4)\n",
            "(4, 4)\n"
          ]
        }
      ]
    },
    {
      "cell_type": "markdown",
      "source": [
        "\n",
        "Showing the shape of the data and labels \n"
      ],
      "metadata": {
        "id": "kxdoYgs1OLh9"
      }
    },
    {
      "cell_type": "code",
      "source": [
        "for data_batch, labels_batch in train_dataset:\n",
        "    print(\"data batch shape:\", data_batch.shape)\n",
        "    print(\"labels batch shape:\", labels_batch.shape)\n",
        "    break"
      ],
      "metadata": {
        "colab": {
          "base_uri": "https://localhost:8080/"
        },
        "id": "1FjuyhnfB23R",
        "outputId": "2c858b34-53c8-4228-dcae-393fcf16a6c7"
      },
      "execution_count": 13,
      "outputs": [
        {
          "output_type": "stream",
          "name": "stdout",
          "text": [
            "data batch shape: (32, 180, 180, 3)\n",
            "labels batch shape: (32,)\n"
          ]
        }
      ]
    },
    {
      "cell_type": "markdown",
      "source": [
        "Building a model"
      ],
      "metadata": {
        "id": "xu8avIRkOU2u"
      }
    },
    {
      "cell_type": "markdown",
      "source": [
        "\n",
        "Instantiating a small convet for doga vs cats classification"
      ],
      "metadata": {
        "id": "UnadNzLxObzR"
      }
    },
    {
      "cell_type": "code",
      "source": [
        "from tensorflow import keras\n",
        "from tensorflow.keras import layers\n",
        "\n",
        "inputs = keras.Input(shape=(180, 180, 3))\n",
        "x = layers.Rescaling(1./255)(inputs)\n",
        "x = layers.Conv2D(filters=32, kernel_size=3, activation=\"relu\")(x)\n",
        "x = layers.MaxPooling2D(pool_size=2)(x)\n",
        "x = layers.Conv2D(filters=64, kernel_size=3, activation=\"relu\")(x)\n",
        "x = layers.MaxPooling2D(pool_size=2)(x)\n",
        "x = layers.Conv2D(filters=128, kernel_size=3, activation=\"relu\")(x)\n",
        "x = layers.MaxPooling2D(pool_size=2)(x)\n",
        "x = layers.Conv2D(filters=256, kernel_size=3, activation=\"relu\")(x)\n",
        "x = layers.MaxPooling2D(pool_size=2)(x)\n",
        "x = layers.Conv2D(filters=256, kernel_size=3, activation=\"relu\")(x)\n",
        "x = layers.Flatten()(x)\n",
        "x = layers.Dropout(0.5)(x)\n",
        "outputs = layers.Dense(1, activation=\"sigmoid\")(x)\n",
        "model = keras.Model(inputs=inputs, outputs=outputs)"
      ],
      "metadata": {
        "id": "dR_usAB4B52H"
      },
      "execution_count": 14,
      "outputs": []
    },
    {
      "cell_type": "markdown",
      "source": [
        "Configuring the model for training \n"
      ],
      "metadata": {
        "id": "zqin3SYkOnza"
      }
    },
    {
      "cell_type": "code",
      "source": [
        "model.compile(loss=\"binary_crossentropy\",\n",
        "              optimizer=\"adam\",\n",
        "              metrics=[\"accuracy\"])"
      ],
      "metadata": {
        "id": "ms_7n9oFCAOU"
      },
      "execution_count": 15,
      "outputs": []
    },
    {
      "cell_type": "code",
      "source": [
        "model.summary()"
      ],
      "metadata": {
        "colab": {
          "base_uri": "https://localhost:8080/"
        },
        "id": "jg_k0K0HCDLB",
        "outputId": "f95511e2-33c3-48f0-9eb3-4949736f0ba6"
      },
      "execution_count": 16,
      "outputs": [
        {
          "output_type": "stream",
          "name": "stdout",
          "text": [
            "Model: \"model\"\n",
            "_________________________________________________________________\n",
            " Layer (type)                Output Shape              Param #   \n",
            "=================================================================\n",
            " input_1 (InputLayer)        [(None, 180, 180, 3)]     0         \n",
            "                                                                 \n",
            " rescaling (Rescaling)       (None, 180, 180, 3)       0         \n",
            "                                                                 \n",
            " conv2d (Conv2D)             (None, 178, 178, 32)      896       \n",
            "                                                                 \n",
            " max_pooling2d (MaxPooling2D  (None, 89, 89, 32)       0         \n",
            " )                                                               \n",
            "                                                                 \n",
            " conv2d_1 (Conv2D)           (None, 87, 87, 64)        18496     \n",
            "                                                                 \n",
            " max_pooling2d_1 (MaxPooling  (None, 43, 43, 64)       0         \n",
            " 2D)                                                             \n",
            "                                                                 \n",
            " conv2d_2 (Conv2D)           (None, 41, 41, 128)       73856     \n",
            "                                                                 \n",
            " max_pooling2d_2 (MaxPooling  (None, 20, 20, 128)      0         \n",
            " 2D)                                                             \n",
            "                                                                 \n",
            " conv2d_3 (Conv2D)           (None, 18, 18, 256)       295168    \n",
            "                                                                 \n",
            " max_pooling2d_3 (MaxPooling  (None, 9, 9, 256)        0         \n",
            " 2D)                                                             \n",
            "                                                                 \n",
            " conv2d_4 (Conv2D)           (None, 7, 7, 256)         590080    \n",
            "                                                                 \n",
            " flatten (Flatten)           (None, 12544)             0         \n",
            "                                                                 \n",
            " dropout (Dropout)           (None, 12544)             0         \n",
            "                                                                 \n",
            " dense (Dense)               (None, 1)                 12545     \n",
            "                                                                 \n",
            "=================================================================\n",
            "Total params: 991,041\n",
            "Trainable params: 991,041\n",
            "Non-trainable params: 0\n",
            "_________________________________________________________________\n"
          ]
        }
      ]
    },
    {
      "cell_type": "markdown",
      "source": [
        "Input shape is ( 180,180,3)\n",
        "\n",
        "Number of channels used is 32.\n",
        "\n",
        "Classification network 2 layers -\n",
        "hidden layer - 12544\n",
        "Final layer - 1 \n",
        "Training parameter are - 991,041"
      ],
      "metadata": {
        "id": "6vyVUK9GPCbm"
      }
    },
    {
      "cell_type": "markdown",
      "source": [
        "Fiiting the model using a Dataset"
      ],
      "metadata": {
        "id": "jtuLR8xRGujw"
      }
    },
    {
      "cell_type": "code",
      "source": [
        "from keras.callbacks import ModelCheckpoint, EarlyStopping\n",
        "\n",
        "callbacks = [\n",
        "    keras.callbacks.ModelCheckpoint(\n",
        "        filepath=\"convnet_from_scratch.keras\",\n",
        "        save_best_only=True,\n",
        "        monitor=\"val_loss\")\n",
        "]\n",
        "history = model.fit(\n",
        "    train_dataset,\n",
        "    epochs=30,\n",
        "    validation_data=validation_dataset,\n",
        "    callbacks=callbacks)"
      ],
      "metadata": {
        "colab": {
          "base_uri": "https://localhost:8080/"
        },
        "id": "gsZmI1T-CMcc",
        "outputId": "2c19b064-bacf-430c-e521-3e3adc789600"
      },
      "execution_count": 17,
      "outputs": [
        {
          "output_type": "stream",
          "name": "stdout",
          "text": [
            "Epoch 1/30\n",
            "63/63 [==============================] - 19s 125ms/step - loss: 0.6925 - accuracy: 0.5250 - val_loss: 0.6933 - val_accuracy: 0.5000\n",
            "Epoch 2/30\n",
            "63/63 [==============================] - 7s 112ms/step - loss: 0.6933 - accuracy: 0.5135 - val_loss: 0.6905 - val_accuracy: 0.5420\n",
            "Epoch 3/30\n",
            "63/63 [==============================] - 9s 133ms/step - loss: 0.6890 - accuracy: 0.5245 - val_loss: 0.6738 - val_accuracy: 0.5830\n",
            "Epoch 4/30\n",
            "63/63 [==============================] - 7s 110ms/step - loss: 0.6853 - accuracy: 0.5565 - val_loss: 0.6833 - val_accuracy: 0.5560\n",
            "Epoch 5/30\n",
            "63/63 [==============================] - 7s 110ms/step - loss: 0.6838 - accuracy: 0.5770 - val_loss: 0.6961 - val_accuracy: 0.5150\n",
            "Epoch 6/30\n",
            "63/63 [==============================] - 7s 110ms/step - loss: 0.6575 - accuracy: 0.6020 - val_loss: 0.6641 - val_accuracy: 0.6100\n",
            "Epoch 7/30\n",
            "63/63 [==============================] - 7s 111ms/step - loss: 0.6323 - accuracy: 0.6545 - val_loss: 0.6502 - val_accuracy: 0.6130\n",
            "Epoch 8/30\n",
            "63/63 [==============================] - 7s 111ms/step - loss: 0.6164 - accuracy: 0.6640 - val_loss: 0.6563 - val_accuracy: 0.6070\n",
            "Epoch 9/30\n",
            "63/63 [==============================] - 7s 110ms/step - loss: 0.6015 - accuracy: 0.6800 - val_loss: 0.6352 - val_accuracy: 0.6260\n",
            "Epoch 10/30\n",
            "63/63 [==============================] - 7s 110ms/step - loss: 0.5834 - accuracy: 0.6970 - val_loss: 0.6489 - val_accuracy: 0.6370\n",
            "Epoch 11/30\n",
            "63/63 [==============================] - 7s 111ms/step - loss: 0.5422 - accuracy: 0.7280 - val_loss: 0.6103 - val_accuracy: 0.6760\n",
            "Epoch 12/30\n",
            "63/63 [==============================] - 7s 110ms/step - loss: 0.4929 - accuracy: 0.7640 - val_loss: 0.6263 - val_accuracy: 0.6810\n",
            "Epoch 13/30\n",
            "63/63 [==============================] - 7s 112ms/step - loss: 0.4532 - accuracy: 0.7975 - val_loss: 0.5846 - val_accuracy: 0.7160\n",
            "Epoch 14/30\n",
            "63/63 [==============================] - 7s 111ms/step - loss: 0.4153 - accuracy: 0.8070 - val_loss: 0.6480 - val_accuracy: 0.6960\n",
            "Epoch 15/30\n",
            "63/63 [==============================] - 7s 112ms/step - loss: 0.3824 - accuracy: 0.8295 - val_loss: 0.5815 - val_accuracy: 0.7290\n",
            "Epoch 16/30\n",
            "63/63 [==============================] - 7s 110ms/step - loss: 0.3054 - accuracy: 0.8710 - val_loss: 0.6697 - val_accuracy: 0.7210\n",
            "Epoch 17/30\n",
            "63/63 [==============================] - 7s 110ms/step - loss: 0.2755 - accuracy: 0.8750 - val_loss: 0.6987 - val_accuracy: 0.7180\n",
            "Epoch 18/30\n",
            "63/63 [==============================] - 7s 110ms/step - loss: 0.2210 - accuracy: 0.9015 - val_loss: 0.7554 - val_accuracy: 0.7380\n",
            "Epoch 19/30\n",
            "63/63 [==============================] - 7s 111ms/step - loss: 0.1703 - accuracy: 0.9350 - val_loss: 0.8487 - val_accuracy: 0.7310\n",
            "Epoch 20/30\n",
            "63/63 [==============================] - 7s 109ms/step - loss: 0.1460 - accuracy: 0.9455 - val_loss: 0.7824 - val_accuracy: 0.7500\n",
            "Epoch 21/30\n",
            "63/63 [==============================] - 7s 110ms/step - loss: 0.1251 - accuracy: 0.9525 - val_loss: 0.9448 - val_accuracy: 0.7470\n",
            "Epoch 22/30\n",
            "63/63 [==============================] - 7s 112ms/step - loss: 0.0933 - accuracy: 0.9615 - val_loss: 1.0454 - val_accuracy: 0.7480\n",
            "Epoch 23/30\n",
            "63/63 [==============================] - 7s 110ms/step - loss: 0.0643 - accuracy: 0.9760 - val_loss: 1.0310 - val_accuracy: 0.7570\n",
            "Epoch 24/30\n",
            "63/63 [==============================] - 7s 109ms/step - loss: 0.0699 - accuracy: 0.9765 - val_loss: 1.0349 - val_accuracy: 0.7460\n",
            "Epoch 25/30\n",
            "63/63 [==============================] - 7s 109ms/step - loss: 0.0698 - accuracy: 0.9705 - val_loss: 1.1837 - val_accuracy: 0.7490\n",
            "Epoch 26/30\n",
            "63/63 [==============================] - 7s 109ms/step - loss: 0.0503 - accuracy: 0.9820 - val_loss: 1.2597 - val_accuracy: 0.7340\n",
            "Epoch 27/30\n",
            "63/63 [==============================] - 7s 110ms/step - loss: 0.0600 - accuracy: 0.9780 - val_loss: 1.2115 - val_accuracy: 0.7220\n",
            "Epoch 28/30\n",
            "63/63 [==============================] - 9s 135ms/step - loss: 0.0585 - accuracy: 0.9805 - val_loss: 1.2345 - val_accuracy: 0.7520\n",
            "Epoch 29/30\n",
            "63/63 [==============================] - 8s 119ms/step - loss: 0.0554 - accuracy: 0.9795 - val_loss: 1.1981 - val_accuracy: 0.7500\n",
            "Epoch 30/30\n",
            "63/63 [==============================] - 7s 110ms/step - loss: 0.0609 - accuracy: 0.9775 - val_loss: 1.2234 - val_accuracy: 0.7490\n"
          ]
        }
      ]
    },
    {
      "cell_type": "markdown",
      "source": [
        "Displaying a curve of loss and accuracy durning training"
      ],
      "metadata": {
        "id": "vwHYMgRzQwDt"
      }
    },
    {
      "cell_type": "code",
      "source": [
        "import matplotlib.pyplot as plt\n",
        "\n",
        "plt.figure(figsize=(10, 10))\n",
        "accuracy = history.history[\"accuracy\"]\n",
        "val_accuracy = history.history[\"val_accuracy\"]\n",
        "loss = history.history[\"loss\"]\n",
        "val_loss = history.history[\"val_loss\"]\n",
        "epochs = range(1, len(accuracy) + 1)\n",
        "plt.plot(epochs, accuracy, \"bo\", label=\"Training accuracy\")\n",
        "plt.plot(epochs, val_accuracy, \"b\", label=\"Validation accuracy\")\n",
        "plt.title(\"Training and validation accuracy\")\n",
        "plt.legend()\n",
        "plt.figure()\n",
        "plt.figure(figsize=(10, 10))\n",
        "plt.plot(epochs, loss, \"bo\", label=\"Training loss\")\n",
        "plt.plot(epochs, val_loss, \"b\", label=\"Validation loss\")\n",
        "plt.title(\"Training and validation loss\")\n",
        "plt.legend()\n",
        "plt.show()"
      ],
      "metadata": {
        "colab": {
          "base_uri": "https://localhost:8080/",
          "height": 1000
        },
        "id": "ky9zEds7Y9dH",
        "outputId": "a2d5d4f8-8e9b-4b9f-947f-a7b4ec42d047"
      },
      "execution_count": 18,
      "outputs": [
        {
          "output_type": "display_data",
          "data": {
            "text/plain": [
              "<Figure size 720x720 with 1 Axes>"
            ],
            "image/png": "[encoded data removed]"
          },
          "metadata": {
            "needs_background": "light"
          }
        },
        {
          "output_type": "display_data",
          "data": {
            "text/plain": [
              "<Figure size 432x288 with 0 Axes>"
            ]
          },
          "metadata": {}
        },
        {
          "output_type": "display_data",
          "data": {
            "text/plain": [
              "<Figure size 720x720 with 1 Axes>"
            ],
            "image/png": "[encoded data removed]"
          },
          "metadata": {
            "needs_background": "light"
          }
        }
      ]
    },
    {
      "cell_type": "markdown",
      "source": [
        "Evaluating the model on the test set"
      ],
      "metadata": {
        "id": "adYxfsvXmTVi"
      }
    },
    {
      "cell_type": "markdown",
      "source": [
        ""
      ],
      "metadata": {
        "id": "ZctgVbPsmRwo"
      }
    },
    {
      "cell_type": "code",
      "source": [
        "test_model = keras.models.load_model(\"convnet_from_scratch.keras\")\n",
        "test_loss, test_acc = test_model.evaluate(test_dataset)\n",
        "print(f\"Test accuracy: {test_acc:.3f}\")"
      ],
      "metadata": {
        "colab": {
          "base_uri": "https://localhost:8080/"
        },
        "id": "5FU0YNimZHuK",
        "outputId": "0d23a295-0bf7-4ad3-9335-14babaef2bf8"
      },
      "execution_count": 21,
      "outputs": [
        {
          "output_type": "stream",
          "name": "stdout",
          "text": [
            "32/32 [==============================] - 2s 48ms/step - loss: 0.6285 - accuracy: 0.7160\n",
            "Test accuracy: 0.716\n"
          ]
        }
      ]
    },
    {
      "cell_type": "markdown",
      "source": [
        "2) Increase your training sample size. You may pick any amount. Keep the validation and test \n",
        "samples the same as above. Optimize your network (again training from scratch). What  performance did you achieve? \n"
      ],
      "metadata": {
        "id": "fbr6egowZTzS"
      }
    },
    {
      "cell_type": "markdown",
      "source": [
        "Defining a data augmentation stage to add to image model\n",
        "\n"
      ],
      "metadata": {
        "id": "jqCvloeRRwtY"
      }
    },
    {
      "cell_type": "code",
      "source": [
        "import os, shutil, pathlib\n",
        "\n",
        "shutil.rmtree(\"./cats_vs_dogs_small_Q2\", ignore_errors=True)\n",
        "\n",
        "original_dir = pathlib.Path(\"train\")\n",
        "new_base_dir = pathlib.Path(\"cats_vs_dogs_small_Q2\")\n",
        "\n",
        "def make_subset(subset_name, start_index, end_index):\n",
        "    for category in (\"cat\", \"dog\"):\n",
        "        dir = new_base_dir / subset_name / category\n",
        "        os.makedirs(dir)\n",
        "        fnames = [f\"{category}.{i}.jpg\" for i in range(start_index, end_index)]\n",
        "        for fname in fnames:\n",
        "            shutil.copyfile(src=original_dir / fname,\n",
        "                            dst=dir / fname)\n",
        "#Creating training, Test and validation sets.\n",
        "#Training has 1000 samples, test has 500 samples and validation has 500 samples.\n",
        "make_subset(\"train\", start_index=0, end_index=1500)\n",
        "make_subset(\"validation\", start_index=1500, end_index=2000)\n",
        "make_subset(\"test\", start_index=2000, end_index=2500)"
      ],
      "metadata": {
        "id": "eqWoYSbpZVN3"
      },
      "execution_count": 22,
      "outputs": []
    },
    {
      "cell_type": "code",
      "source": [
        "data_augmentation = keras.Sequential(\n",
        "    [\n",
        "        layers.RandomFlip(\"horizontal\"),\n",
        "        layers.RandomRotation(0.1),\n",
        "        layers.RandomZoom(0.2),\n",
        "    ]\n",
        ")"
      ],
      "metadata": {
        "id": "7q8gbHplZcKQ"
      },
      "execution_count": 23,
      "outputs": []
    },
    {
      "cell_type": "markdown",
      "source": [
        "Showing some randomly augmented training image "
      ],
      "metadata": {
        "id": "WALcUZvSZgC4"
      }
    },
    {
      "cell_type": "code",
      "source": [
        "plt.figure(figsize=(10, 10))\n",
        "for images, _ in train_dataset.take(1):\n",
        "    for i in range(9):\n",
        "        augmented_images = data_augmentation(images)\n",
        "        ax = plt.subplot(3, 3, i + 1)\n",
        "        plt.imshow(augmented_images[0].numpy().astype(\"uint8\"))\n",
        "        plt.axis(\"off\")"
      ],
      "metadata": {
        "colab": {
          "base_uri": "https://localhost:8080/",
          "height": 575
        },
        "id": "u5dPjK8ZZipz",
        "outputId": "b6266187-0109-4f2f-ab8d-bc93e6854cde"
      },
      "execution_count": 24,
      "outputs": [
        {
          "output_type": "display_data",
          "data": {
            "text/plain": [
              "<Figure size 720x720 with 9 Axes>"
            ],
            "image/png": "[encoded data removed]"
          },
          "metadata": {
            "needs_background": "light"
          }
        }
      ]
    },
    {
      "cell_type": "markdown",
      "source": [
        "Defining a new convet that includes images augmentation and dropout"
      ],
      "metadata": {
        "id": "6_fboETcIes8"
      }
    },
    {
      "cell_type": "markdown",
      "source": [
        ""
      ],
      "metadata": {
        "id": "HwFromzQIceI"
      }
    },
    {
      "cell_type": "code",
      "source": [
        "inputs = keras.Input(shape=(180, 180, 3))\n",
        "x = data_augmentation(inputs)\n",
        "x = layers.Rescaling(1./255)(x)\n",
        "x = layers.Conv2D(filters=32, kernel_size=3, activation=\"relu\")(x)\n",
        "x = layers.MaxPooling2D(pool_size=2)(x)\n",
        "x = layers.Conv2D(filters=64, kernel_size=3, activation=\"relu\")(x)\n",
        "x = layers.MaxPooling2D(pool_size=2)(x)\n",
        "x = layers.Conv2D(filters=128, kernel_size=3, activation=\"relu\")(x)\n",
        "x = layers.MaxPooling2D(pool_size=2)(x)\n",
        "x = layers.Conv2D(filters=256, kernel_size=3, activation=\"relu\")(x)\n",
        "x = layers.MaxPooling2D(pool_size=2)(x)\n",
        "x = layers.Conv2D(filters=256, kernel_size=3, activation=\"relu\")(x)\n",
        "x = layers.Flatten()(x)\n",
        "x = layers.Dropout(0.5)(x)\n",
        "outputs = layers.Dense(1, activation=\"sigmoid\")(x)\n",
        "model = keras.Model(inputs=inputs, outputs=outputs)\n",
        "\n",
        "model.compile(loss=\"binary_crossentropy\",\n",
        "              optimizer=\"adam\",\n",
        "              metrics=[\"accuracy\"])"
      ],
      "metadata": {
        "id": "kKys2bl_ZpqQ"
      },
      "execution_count": 25,
      "outputs": []
    },
    {
      "cell_type": "markdown",
      "source": [
        "\n",
        " Training the regularized convnet"
      ],
      "metadata": {
        "id": "3k5FRAY9Zt8e"
      }
    },
    {
      "cell_type": "code",
      "source": [
        "callbacks = [\n",
        "    keras.callbacks.ModelCheckpoint(\n",
        "        filepath=\"convnet_from_scratch_with_augmentation.keras\",\n",
        "        save_best_only=True,\n",
        "        monitor=\"val_loss\")\n",
        "]\n",
        "history = model.fit(\n",
        "    train_dataset,\n",
        "    epochs=50,\n",
        "    validation_data=validation_dataset,\n",
        "    callbacks=callbacks)"
      ],
      "metadata": {
        "colab": {
          "base_uri": "https://localhost:8080/"
        },
        "id": "LHNiJYlUZvGh",
        "outputId": "2c0a2c19-cee0-42ec-a2a9-b851f0b123bd"
      },
      "execution_count": 26,
      "outputs": [
        {
          "output_type": "stream",
          "name": "stdout",
          "text": [
            "Epoch 1/50\n",
            "63/63 [==============================] - 9s 120ms/step - loss: 0.6955 - accuracy: 0.5140 - val_loss: 0.6930 - val_accuracy: 0.5000\n",
            "Epoch 2/50\n",
            "63/63 [==============================] - 13s 196ms/step - loss: 0.6938 - accuracy: 0.4985 - val_loss: 0.6931 - val_accuracy: 0.5000\n",
            "Epoch 3/50\n",
            "63/63 [==============================] - 8s 117ms/step - loss: 0.6931 - accuracy: 0.5170 - val_loss: 0.6920 - val_accuracy: 0.5760\n",
            "Epoch 4/50\n",
            "63/63 [==============================] - 8s 115ms/step - loss: 0.6912 - accuracy: 0.5410 - val_loss: 0.6932 - val_accuracy: 0.4990\n",
            "Epoch 5/50\n",
            "63/63 [==============================] - 8s 116ms/step - loss: 0.6915 - accuracy: 0.5325 - val_loss: 0.6894 - val_accuracy: 0.5050\n",
            "Epoch 6/50\n",
            "63/63 [==============================] - 8s 117ms/step - loss: 0.6840 - accuracy: 0.5695 - val_loss: 0.6766 - val_accuracy: 0.5580\n",
            "Epoch 7/50\n",
            "63/63 [==============================] - 8s 118ms/step - loss: 0.6573 - accuracy: 0.6200 - val_loss: 0.6461 - val_accuracy: 0.5960\n",
            "Epoch 8/50\n",
            "63/63 [==============================] - 8s 115ms/step - loss: 0.6784 - accuracy: 0.5940 - val_loss: 0.6408 - val_accuracy: 0.6390\n",
            "Epoch 9/50\n",
            "63/63 [==============================] - 8s 115ms/step - loss: 0.6498 - accuracy: 0.6405 - val_loss: 0.6450 - val_accuracy: 0.6390\n",
            "Epoch 10/50\n",
            "63/63 [==============================] - 8s 115ms/step - loss: 0.6356 - accuracy: 0.6440 - val_loss: 0.6509 - val_accuracy: 0.6140\n",
            "Epoch 11/50\n",
            "63/63 [==============================] - 8s 116ms/step - loss: 0.6225 - accuracy: 0.6715 - val_loss: 0.5948 - val_accuracy: 0.6730\n",
            "Epoch 12/50\n",
            "63/63 [==============================] - 8s 118ms/step - loss: 0.6073 - accuracy: 0.6810 - val_loss: 0.6058 - val_accuracy: 0.6890\n",
            "Epoch 13/50\n",
            "63/63 [==============================] - 8s 118ms/step - loss: 0.5949 - accuracy: 0.6840 - val_loss: 0.5874 - val_accuracy: 0.6810\n",
            "Epoch 14/50\n",
            "63/63 [==============================] - 8s 117ms/step - loss: 0.5862 - accuracy: 0.6955 - val_loss: 0.6050 - val_accuracy: 0.6730\n",
            "Epoch 15/50\n",
            "63/63 [==============================] - 8s 117ms/step - loss: 0.5757 - accuracy: 0.7050 - val_loss: 0.5834 - val_accuracy: 0.6730\n",
            "Epoch 16/50\n",
            "63/63 [==============================] - 8s 120ms/step - loss: 0.5712 - accuracy: 0.7050 - val_loss: 0.5806 - val_accuracy: 0.7000\n",
            "Epoch 17/50\n",
            "63/63 [==============================] - 8s 118ms/step - loss: 0.5635 - accuracy: 0.7000 - val_loss: 0.5630 - val_accuracy: 0.7030\n",
            "Epoch 18/50\n",
            "63/63 [==============================] - 8s 119ms/step - loss: 0.5591 - accuracy: 0.7235 - val_loss: 0.5546 - val_accuracy: 0.7110\n",
            "Epoch 19/50\n",
            "63/63 [==============================] - 8s 118ms/step - loss: 0.5458 - accuracy: 0.7395 - val_loss: 0.5399 - val_accuracy: 0.7340\n",
            "Epoch 20/50\n",
            "63/63 [==============================] - 8s 116ms/step - loss: 0.5276 - accuracy: 0.7430 - val_loss: 0.5890 - val_accuracy: 0.6810\n",
            "Epoch 21/50\n",
            "63/63 [==============================] - 8s 117ms/step - loss: 0.5432 - accuracy: 0.7240 - val_loss: 0.5442 - val_accuracy: 0.7380\n",
            "Epoch 22/50\n",
            "63/63 [==============================] - 8s 119ms/step - loss: 0.5362 - accuracy: 0.7400 - val_loss: 0.5326 - val_accuracy: 0.7350\n",
            "Epoch 23/50\n",
            "63/63 [==============================] - 8s 119ms/step - loss: 0.5076 - accuracy: 0.7545 - val_loss: 0.5313 - val_accuracy: 0.7320\n",
            "Epoch 24/50\n",
            "63/63 [==============================] - 8s 117ms/step - loss: 0.5159 - accuracy: 0.7460 - val_loss: 0.5860 - val_accuracy: 0.6850\n",
            "Epoch 25/50\n",
            "63/63 [==============================] - 8s 118ms/step - loss: 0.5071 - accuracy: 0.7415 - val_loss: 0.5298 - val_accuracy: 0.7320\n",
            "Epoch 26/50\n",
            "63/63 [==============================] - 8s 116ms/step - loss: 0.4993 - accuracy: 0.7585 - val_loss: 0.5606 - val_accuracy: 0.7210\n",
            "Epoch 27/50\n",
            "63/63 [==============================] - 8s 116ms/step - loss: 0.4779 - accuracy: 0.7640 - val_loss: 0.5816 - val_accuracy: 0.7230\n",
            "Epoch 28/50\n",
            "63/63 [==============================] - 8s 117ms/step - loss: 0.4833 - accuracy: 0.7590 - val_loss: 0.5490 - val_accuracy: 0.7330\n",
            "Epoch 29/50\n",
            "63/63 [==============================] - 8s 118ms/step - loss: 0.4761 - accuracy: 0.7660 - val_loss: 0.5660 - val_accuracy: 0.7350\n",
            "Epoch 30/50\n",
            "63/63 [==============================] - 8s 116ms/step - loss: 0.4763 - accuracy: 0.7730 - val_loss: 0.5529 - val_accuracy: 0.7210\n",
            "Epoch 31/50\n",
            "63/63 [==============================] - 8s 118ms/step - loss: 0.4614 - accuracy: 0.7825 - val_loss: 0.4947 - val_accuracy: 0.7530\n",
            "Epoch 32/50\n",
            "63/63 [==============================] - 8s 117ms/step - loss: 0.4644 - accuracy: 0.7780 - val_loss: 0.5265 - val_accuracy: 0.7660\n",
            "Epoch 33/50\n",
            "63/63 [==============================] - 8s 117ms/step - loss: 0.4380 - accuracy: 0.7925 - val_loss: 0.5290 - val_accuracy: 0.7500\n",
            "Epoch 34/50\n",
            "63/63 [==============================] - 8s 116ms/step - loss: 0.4329 - accuracy: 0.7915 - val_loss: 0.5204 - val_accuracy: 0.7610\n",
            "Epoch 35/50\n",
            "63/63 [==============================] - 8s 120ms/step - loss: 0.4317 - accuracy: 0.8045 - val_loss: 0.4913 - val_accuracy: 0.7670\n",
            "Epoch 36/50\n",
            "63/63 [==============================] - 8s 117ms/step - loss: 0.4170 - accuracy: 0.7960 - val_loss: 0.5405 - val_accuracy: 0.7530\n",
            "Epoch 37/50\n",
            "63/63 [==============================] - 8s 116ms/step - loss: 0.4300 - accuracy: 0.7960 - val_loss: 0.5109 - val_accuracy: 0.7570\n",
            "Epoch 38/50\n",
            "63/63 [==============================] - 8s 118ms/step - loss: 0.4211 - accuracy: 0.8055 - val_loss: 0.4907 - val_accuracy: 0.7690\n",
            "Epoch 39/50\n",
            "63/63 [==============================] - 8s 117ms/step - loss: 0.3985 - accuracy: 0.8145 - val_loss: 0.4931 - val_accuracy: 0.7910\n",
            "Epoch 40/50\n",
            "63/63 [==============================] - 8s 117ms/step - loss: 0.3932 - accuracy: 0.8205 - val_loss: 0.4544 - val_accuracy: 0.7910\n",
            "Epoch 41/50\n",
            "63/63 [==============================] - 8s 116ms/step - loss: 0.3891 - accuracy: 0.8180 - val_loss: 0.4608 - val_accuracy: 0.7930\n",
            "Epoch 42/50\n",
            "63/63 [==============================] - 8s 117ms/step - loss: 0.3855 - accuracy: 0.8280 - val_loss: 0.4570 - val_accuracy: 0.7930\n",
            "Epoch 43/50\n",
            "63/63 [==============================] - 8s 116ms/step - loss: 0.3549 - accuracy: 0.8415 - val_loss: 0.4719 - val_accuracy: 0.7990\n",
            "Epoch 44/50\n",
            "63/63 [==============================] - 8s 117ms/step - loss: 0.3643 - accuracy: 0.8340 - val_loss: 0.4858 - val_accuracy: 0.7970\n",
            "Epoch 45/50\n",
            "63/63 [==============================] - 8s 116ms/step - loss: 0.3707 - accuracy: 0.8275 - val_loss: 0.4546 - val_accuracy: 0.7820\n",
            "Epoch 46/50\n",
            "63/63 [==============================] - 8s 116ms/step - loss: 0.3604 - accuracy: 0.8495 - val_loss: 0.4925 - val_accuracy: 0.7830\n",
            "Epoch 47/50\n",
            "63/63 [==============================] - 8s 116ms/step - loss: 0.3408 - accuracy: 0.8490 - val_loss: 0.4764 - val_accuracy: 0.7980\n",
            "Epoch 48/50\n",
            "63/63 [==============================] - 8s 119ms/step - loss: 0.3512 - accuracy: 0.8485 - val_loss: 0.5369 - val_accuracy: 0.7840\n",
            "Epoch 49/50\n",
            "63/63 [==============================] - 8s 117ms/step - loss: 0.3243 - accuracy: 0.8540 - val_loss: 0.4755 - val_accuracy: 0.8020\n",
            "Epoch 50/50\n",
            "63/63 [==============================] - 8s 117ms/step - loss: 0.3284 - accuracy: 0.8495 - val_loss: 0.5213 - val_accuracy: 0.7880\n"
          ]
        }
      ]
    },
    {
      "cell_type": "markdown",
      "source": [
        "\n",
        "Evaluating the model on the test set\n"
      ],
      "metadata": {
        "id": "iHQ9Y_PGTxxE"
      }
    },
    {
      "cell_type": "markdown",
      "source": [
        ""
      ],
      "metadata": {
        "id": "t2vXCSSr-wfP"
      }
    },
    {
      "cell_type": "code",
      "source": [
        "test_model = keras.models.load_model(\n",
        "    \"convnet_from_scratch_with_augmentation.keras\")\n",
        "test_loss, test_acc = test_model.evaluate(test_dataset)\n",
        "print(f\"Test accuracy: {test_acc:.3f}\")"
      ],
      "metadata": {
        "colab": {
          "base_uri": "https://localhost:8080/"
        },
        "id": "rs_YfFs4-zId",
        "outputId": "6d6bec83-15d8-4195-d0c1-3408e5a3ebc0"
      },
      "execution_count": 27,
      "outputs": [
        {
          "output_type": "stream",
          "name": "stdout",
          "text": [
            "32/32 [==============================] - 2s 49ms/step - loss: 0.5164 - accuracy: 0.7710\n",
            "Test accuracy: 0.771\n"
          ]
        }
      ]
    },
    {
      "cell_type": "markdown",
      "source": [
        "3)Now change your training sample so that you achieve better performance than those from Steps \n",
        "1 and 2. This sample size may be larger, or smaller than those in the previous steps. The \n",
        "objective is to find the ideal training sample size to get best prediction results.  "
      ],
      "metadata": {
        "id": "oiroEnIm_EYk"
      }
    },
    {
      "cell_type": "markdown",
      "source": [
        "Increasing the training sample to 2000, keeping the validation and test sets the same as before ( 500 samples)"
      ],
      "metadata": {
        "id": "_mqZM0M1UgT3"
      }
    },
    {
      "cell_type": "code",
      "source": [
        "original_dir = pathlib.Path(\"train\")\n",
        "new_base_dir = pathlib.Path(\"cats_vs_dogs_small_Q3\")\n",
        "\n",
        "def make_subset(subset_name, start_index, end_index):\n",
        "    for category in (\"cat\", \"dog\"):\n",
        "        dir = new_base_dir / subset_name / category\n",
        "        os.makedirs(dir)\n",
        "        fnames = [f\"{category}.{i}.jpg\" for i in range(start_index, end_index)]\n",
        "        for fname in fnames:\n",
        "            shutil.copyfile(src=original_dir / fname,\n",
        "                            dst=dir / fname)\n",
        "#Creating training, Test and validation sets.\n",
        "#Training has 1000 samples, test has 500 samples and validation has 500 samples.\n",
        "make_subset(\"train\", start_index=0, end_index=2000)\n",
        "make_subset(\"validation\", start_index=2000, end_index=2500)\n",
        "make_subset(\"test\", start_index=2500, end_index=3000)"
      ],
      "metadata": {
        "id": "yHXV0ikW_Gef"
      },
      "execution_count": 28,
      "outputs": []
    },
    {
      "cell_type": "markdown",
      "source": [
        "\n",
        "Defining a new convet with increased training samples, image augementation and drop out"
      ],
      "metadata": {
        "id": "FkFtGZfm_NK3"
      }
    },
    {
      "cell_type": "code",
      "source": [
        "inputs = keras.Input(shape=(180, 180, 3))\n",
        "x = data_augmentation(inputs)\n",
        "x = layers.Rescaling(1./255)(x)\n",
        "x = layers.Conv2D(filters=32, kernel_size=3, activation=\"relu\")(x)\n",
        "x = layers.MaxPooling2D(pool_size=2)(x)\n",
        "x = layers.Conv2D(filters=64, kernel_size=3, activation=\"relu\")(x)\n",
        "x = layers.MaxPooling2D(pool_size=2)(x)\n",
        "x = layers.Conv2D(filters=128, kernel_size=3, activation=\"relu\")(x)\n",
        "x = layers.MaxPooling2D(pool_size=2)(x)\n",
        "x = layers.Conv2D(filters=256, kernel_size=3, activation=\"relu\")(x)\n",
        "x = layers.MaxPooling2D(pool_size=2)(x)\n",
        "x = layers.Conv2D(filters=256, kernel_size=3, activation=\"relu\")(x)\n",
        "x = layers.Flatten()(x)\n",
        "x = layers.Dropout(0.5)(x)\n",
        "outputs = layers.Dense(1, activation=\"sigmoid\")(x)\n",
        "model = keras.Model(inputs=inputs, outputs=outputs)\n",
        "\n",
        "model.compile(loss=\"binary_crossentropy\",\n",
        "              optimizer=\"adam\",\n",
        "              metrics=[\"accuracy\"])"
      ],
      "metadata": {
        "id": "CascfZV5iXJ0"
      },
      "execution_count": 29,
      "outputs": []
    },
    {
      "cell_type": "code",
      "source": [
        "callbacks = [\n",
        "    keras.callbacks.ModelCheckpoint(\n",
        "        filepath=\"convnet_from_scratch_with_augmentation1.keras\",\n",
        "        save_best_only=True,\n",
        "        monitor=\"val_loss\")\n",
        "]\n",
        "history = model.fit(\n",
        "    train_dataset,\n",
        "    epochs=50,\n",
        "    validation_data=validation_dataset,\n",
        "    callbacks=callbacks)"
      ],
      "metadata": {
        "colab": {
          "base_uri": "https://localhost:8080/"
        },
        "id": "sIngm1WZinRL",
        "outputId": "5d12147f-4607-4640-8653-fbf6a42de2c0"
      },
      "execution_count": 30,
      "outputs": [
        {
          "output_type": "stream",
          "name": "stdout",
          "text": [
            "Epoch 1/50\n",
            "63/63 [==============================] - 9s 120ms/step - loss: 0.6991 - accuracy: 0.4990 - val_loss: 0.6915 - val_accuracy: 0.5000\n",
            "Epoch 2/50\n",
            "63/63 [==============================] - 8s 117ms/step - loss: 0.6945 - accuracy: 0.5050 - val_loss: 0.6926 - val_accuracy: 0.5950\n",
            "Epoch 3/50\n",
            "63/63 [==============================] - 8s 117ms/step - loss: 0.6906 - accuracy: 0.5495 - val_loss: 0.6784 - val_accuracy: 0.5570\n",
            "Epoch 4/50\n",
            "63/63 [==============================] - 8s 116ms/step - loss: 0.6911 - accuracy: 0.5280 - val_loss: 0.6907 - val_accuracy: 0.5190\n",
            "Epoch 5/50\n",
            "63/63 [==============================] - 8s 118ms/step - loss: 0.6852 - accuracy: 0.5160 - val_loss: 0.6934 - val_accuracy: 0.5000\n",
            "Epoch 6/50\n",
            "63/63 [==============================] - 8s 116ms/step - loss: 0.6940 - accuracy: 0.5130 - val_loss: 0.6932 - val_accuracy: 0.5000\n",
            "Epoch 7/50\n",
            "63/63 [==============================] - 8s 116ms/step - loss: 0.6935 - accuracy: 0.5020 - val_loss: 0.6923 - val_accuracy: 0.5340\n",
            "Epoch 8/50\n",
            "63/63 [==============================] - 8s 117ms/step - loss: 0.6898 - accuracy: 0.5380 - val_loss: 0.6858 - val_accuracy: 0.5000\n",
            "Epoch 9/50\n",
            "63/63 [==============================] - 8s 116ms/step - loss: 0.6903 - accuracy: 0.5515 - val_loss: 0.6896 - val_accuracy: 0.5190\n",
            "Epoch 10/50\n",
            "63/63 [==============================] - 8s 116ms/step - loss: 0.6896 - accuracy: 0.5305 - val_loss: 0.6840 - val_accuracy: 0.5560\n",
            "Epoch 11/50\n",
            "63/63 [==============================] - 8s 115ms/step - loss: 0.6860 - accuracy: 0.5255 - val_loss: 0.6872 - val_accuracy: 0.5350\n",
            "Epoch 12/50\n",
            "63/63 [==============================] - 8s 118ms/step - loss: 0.6826 - accuracy: 0.5645 - val_loss: 0.6667 - val_accuracy: 0.6030\n",
            "Epoch 13/50\n",
            "63/63 [==============================] - 8s 116ms/step - loss: 0.6778 - accuracy: 0.5710 - val_loss: 0.6828 - val_accuracy: 0.5730\n",
            "Epoch 14/50\n",
            "63/63 [==============================] - 8s 117ms/step - loss: 0.6647 - accuracy: 0.6150 - val_loss: 0.6320 - val_accuracy: 0.6270\n",
            "Epoch 15/50\n",
            "63/63 [==============================] - 8s 117ms/step - loss: 0.6454 - accuracy: 0.6250 - val_loss: 0.7509 - val_accuracy: 0.5790\n",
            "Epoch 16/50\n",
            "63/63 [==============================] - 8s 116ms/step - loss: 0.6540 - accuracy: 0.6350 - val_loss: 0.6366 - val_accuracy: 0.6300\n",
            "Epoch 17/50\n",
            "63/63 [==============================] - 8s 118ms/step - loss: 0.6269 - accuracy: 0.6540 - val_loss: 0.6176 - val_accuracy: 0.6530\n",
            "Epoch 18/50\n",
            "63/63 [==============================] - 8s 116ms/step - loss: 0.6242 - accuracy: 0.6610 - val_loss: 0.6357 - val_accuracy: 0.6490\n",
            "Epoch 19/50\n",
            "63/63 [==============================] - 8s 117ms/step - loss: 0.6220 - accuracy: 0.6635 - val_loss: 0.6348 - val_accuracy: 0.6430\n",
            "Epoch 20/50\n",
            "63/63 [==============================] - 8s 116ms/step - loss: 0.6033 - accuracy: 0.6965 - val_loss: 0.6186 - val_accuracy: 0.6690\n",
            "Epoch 21/50\n",
            "63/63 [==============================] - 8s 116ms/step - loss: 0.6184 - accuracy: 0.6595 - val_loss: 0.6376 - val_accuracy: 0.6170\n",
            "Epoch 22/50\n",
            "63/63 [==============================] - 8s 117ms/step - loss: 0.6021 - accuracy: 0.6915 - val_loss: 0.6102 - val_accuracy: 0.6560\n",
            "Epoch 23/50\n",
            "63/63 [==============================] - 8s 116ms/step - loss: 0.5899 - accuracy: 0.7020 - val_loss: 0.6198 - val_accuracy: 0.6450\n",
            "Epoch 24/50\n",
            "63/63 [==============================] - 8s 117ms/step - loss: 0.5698 - accuracy: 0.7015 - val_loss: 0.5918 - val_accuracy: 0.6820\n",
            "Epoch 25/50\n",
            "63/63 [==============================] - 8s 118ms/step - loss: 0.5506 - accuracy: 0.7330 - val_loss: 0.5714 - val_accuracy: 0.6980\n",
            "Epoch 26/50\n",
            "63/63 [==============================] - 8s 116ms/step - loss: 0.5708 - accuracy: 0.7045 - val_loss: 0.5825 - val_accuracy: 0.6900\n",
            "Epoch 27/50\n",
            "63/63 [==============================] - 8s 117ms/step - loss: 0.5330 - accuracy: 0.7385 - val_loss: 0.5180 - val_accuracy: 0.7500\n",
            "Epoch 28/50\n",
            "63/63 [==============================] - 8s 116ms/step - loss: 0.5185 - accuracy: 0.7505 - val_loss: 0.6145 - val_accuracy: 0.6860\n",
            "Epoch 29/50\n",
            "63/63 [==============================] - 8s 116ms/step - loss: 0.5208 - accuracy: 0.7350 - val_loss: 0.5621 - val_accuracy: 0.7230\n",
            "Epoch 30/50\n",
            "63/63 [==============================] - 8s 116ms/step - loss: 0.4969 - accuracy: 0.7635 - val_loss: 0.5423 - val_accuracy: 0.7310\n",
            "Epoch 31/50\n",
            "63/63 [==============================] - 8s 117ms/step - loss: 0.4999 - accuracy: 0.7565 - val_loss: 0.5319 - val_accuracy: 0.7320\n",
            "Epoch 32/50\n",
            "63/63 [==============================] - 8s 117ms/step - loss: 0.4912 - accuracy: 0.7600 - val_loss: 0.5075 - val_accuracy: 0.7390\n",
            "Epoch 33/50\n",
            "63/63 [==============================] - 8s 117ms/step - loss: 0.4786 - accuracy: 0.7575 - val_loss: 0.4943 - val_accuracy: 0.7490\n",
            "Epoch 34/50\n",
            "63/63 [==============================] - 8s 116ms/step - loss: 0.4742 - accuracy: 0.7635 - val_loss: 0.4961 - val_accuracy: 0.7580\n",
            "Epoch 35/50\n",
            "63/63 [==============================] - 8s 117ms/step - loss: 0.4674 - accuracy: 0.7785 - val_loss: 0.5247 - val_accuracy: 0.7420\n",
            "Epoch 36/50\n",
            "63/63 [==============================] - 7s 114ms/step - loss: 0.4441 - accuracy: 0.7860 - val_loss: 0.5081 - val_accuracy: 0.7440\n",
            "Epoch 37/50\n",
            "63/63 [==============================] - 8s 115ms/step - loss: 0.4702 - accuracy: 0.7660 - val_loss: 0.5102 - val_accuracy: 0.7550\n",
            "Epoch 38/50\n",
            "63/63 [==============================] - 7s 114ms/step - loss: 0.4345 - accuracy: 0.7955 - val_loss: 0.6090 - val_accuracy: 0.7060\n",
            "Epoch 39/50\n",
            "63/63 [==============================] - 8s 116ms/step - loss: 0.4263 - accuracy: 0.7970 - val_loss: 0.4919 - val_accuracy: 0.7580\n",
            "Epoch 40/50\n",
            "63/63 [==============================] - 8s 116ms/step - loss: 0.4270 - accuracy: 0.8095 - val_loss: 0.4893 - val_accuracy: 0.7570\n",
            "Epoch 41/50\n",
            "63/63 [==============================] - 8s 115ms/step - loss: 0.4303 - accuracy: 0.7995 - val_loss: 0.5204 - val_accuracy: 0.7550\n",
            "Epoch 42/50\n",
            "63/63 [==============================] - 8s 115ms/step - loss: 0.4128 - accuracy: 0.8120 - val_loss: 0.5120 - val_accuracy: 0.7550\n",
            "Epoch 43/50\n",
            "63/63 [==============================] - 8s 116ms/step - loss: 0.3989 - accuracy: 0.8125 - val_loss: 0.4899 - val_accuracy: 0.7650\n",
            "Epoch 44/50\n",
            "63/63 [==============================] - 8s 115ms/step - loss: 0.4126 - accuracy: 0.8150 - val_loss: 0.4586 - val_accuracy: 0.7760\n",
            "Epoch 45/50\n",
            "63/63 [==============================] - 7s 115ms/step - loss: 0.3810 - accuracy: 0.8280 - val_loss: 0.4786 - val_accuracy: 0.7720\n",
            "Epoch 46/50\n",
            "63/63 [==============================] - 7s 114ms/step - loss: 0.3819 - accuracy: 0.8280 - val_loss: 0.4748 - val_accuracy: 0.7740\n",
            "Epoch 47/50\n",
            "63/63 [==============================] - 7s 114ms/step - loss: 0.3778 - accuracy: 0.8205 - val_loss: 0.5077 - val_accuracy: 0.7540\n",
            "Epoch 48/50\n",
            "63/63 [==============================] - 7s 114ms/step - loss: 0.3753 - accuracy: 0.8370 - val_loss: 0.4736 - val_accuracy: 0.7720\n",
            "Epoch 49/50\n",
            "63/63 [==============================] - 8s 115ms/step - loss: 0.3763 - accuracy: 0.8330 - val_loss: 0.4614 - val_accuracy: 0.7760\n",
            "Epoch 50/50\n",
            "63/63 [==============================] - 7s 114ms/step - loss: 0.3623 - accuracy: 0.8350 - val_loss: 0.4801 - val_accuracy: 0.7820\n"
          ]
        }
      ]
    },
    {
      "cell_type": "markdown",
      "source": [
        "Evaluting the model"
      ],
      "metadata": {
        "id": "cQfuXkRoH4io"
      }
    },
    {
      "cell_type": "code",
      "source": [
        "test_model = keras.models.load_model(\n",
        "    \"convnet_from_scratch_with_augmentation1.keras\")\n",
        "test_loss, test_acc = test_model.evaluate(test_dataset)\n",
        "print(f\"Test accuracy: {test_acc:.3f}\")"
      ],
      "metadata": {
        "colab": {
          "base_uri": "https://localhost:8080/"
        },
        "id": "ooLg14_XwTRg",
        "outputId": "69ffc39f-6626-4f4c-972f-f8b5b87d028a"
      },
      "execution_count": 31,
      "outputs": [
        {
          "output_type": "stream",
          "name": "stdout",
          "text": [
            "32/32 [==============================] - 2s 54ms/step - loss: 0.5109 - accuracy: 0.7610\n",
            "Test accuracy: 0.761\n"
          ]
        }
      ]
    },
    {
      "cell_type": "markdown",
      "source": [
        "4)Repeat Steps 1-3, but now using a pretrained network. The sample sizes you use in Steps 2 and 3 \n",
        "for the pretrained network may be the same or different from those using the network where \n",
        "you trained from scratch. Again, use any and all optimization techniques to get best \n",
        "performance. "
      ],
      "metadata": {
        "id": "8RCKL6SHIWDE"
      }
    },
    {
      "cell_type": "markdown",
      "source": [
        "Feature extraction with a pretrained model\n",
        "using the representation laerned by previously trained model(Image) to extracr interesting features from new samples. Then its run through a new classifier "
      ],
      "metadata": {
        "id": "9pqTHpxBHFZo"
      }
    },
    {
      "cell_type": "markdown",
      "source": [
        "\n",
        "Using the VGG 16 convolution base"
      ],
      "metadata": {
        "id": "rBfJmPNsECDE"
      }
    },
    {
      "cell_type": "code",
      "source": [
        "conv_base = keras.applications.vgg16.VGG16(\n",
        "    weights=\"imagenet\",\n",
        "    include_top=False,\n",
        "    input_shape=(180, 180, 3))"
      ],
      "metadata": {
        "colab": {
          "base_uri": "https://localhost:8080/"
        },
        "id": "QxUo4cB5IZtS",
        "outputId": "82592d89-1dcb-4d73-8c6c-b8351ccf1b14"
      },
      "execution_count": 32,
      "outputs": [
        {
          "output_type": "stream",
          "name": "stdout",
          "text": [
            "Downloading data from https://storage.googleapis.com/tensorflow/keras-applications/vgg16/vgg16_weights_tf_dim_ordering_tf_kernels_notop.h5\n",
            "58892288/58889256 [==============================] - 0s 0us/step\n",
            "58900480/58889256 [==============================] - 0s 0us/step\n"
          ]
        }
      ]
    },
    {
      "cell_type": "code",
      "source": [
        "conv_base.summary()"
      ],
      "metadata": {
        "colab": {
          "base_uri": "https://localhost:8080/"
        },
        "id": "2EUMt6I5Ieio",
        "outputId": "890fc869-63a0-4187-8b96-17438adb67ff"
      },
      "execution_count": 33,
      "outputs": [
        {
          "output_type": "stream",
          "name": "stdout",
          "text": [
            "Model: \"vgg16\"\n",
            "_________________________________________________________________\n",
            " Layer (type)                Output Shape              Param #   \n",
            "=================================================================\n",
            " input_4 (InputLayer)        [(None, 180, 180, 3)]     0         \n",
            "                                                                 \n",
            " block1_conv1 (Conv2D)       (None, 180, 180, 64)      1792      \n",
            "                                                                 \n",
            " block1_conv2 (Conv2D)       (None, 180, 180, 64)      36928     \n",
            "                                                                 \n",
            " block1_pool (MaxPooling2D)  (None, 90, 90, 64)        0         \n",
            "                                                                 \n",
            " block2_conv1 (Conv2D)       (None, 90, 90, 128)       73856     \n",
            "                                                                 \n",
            " block2_conv2 (Conv2D)       (None, 90, 90, 128)       147584    \n",
            "                                                                 \n",
            " block2_pool (MaxPooling2D)  (None, 45, 45, 128)       0         \n",
            "                                                                 \n",
            " block3_conv1 (Conv2D)       (None, 45, 45, 256)       295168    \n",
            "                                                                 \n",
            " block3_conv2 (Conv2D)       (None, 45, 45, 256)       590080    \n",
            "                                                                 \n",
            " block3_conv3 (Conv2D)       (None, 45, 45, 256)       590080    \n",
            "                                                                 \n",
            " block3_pool (MaxPooling2D)  (None, 22, 22, 256)       0         \n",
            "                                                                 \n",
            " block4_conv1 (Conv2D)       (None, 22, 22, 512)       1180160   \n",
            "                                                                 \n",
            " block4_conv2 (Conv2D)       (None, 22, 22, 512)       2359808   \n",
            "                                                                 \n",
            " block4_conv3 (Conv2D)       (None, 22, 22, 512)       2359808   \n",
            "                                                                 \n",
            " block4_pool (MaxPooling2D)  (None, 11, 11, 512)       0         \n",
            "                                                                 \n",
            " block5_conv1 (Conv2D)       (None, 11, 11, 512)       2359808   \n",
            "                                                                 \n",
            " block5_conv2 (Conv2D)       (None, 11, 11, 512)       2359808   \n",
            "                                                                 \n",
            " block5_conv3 (Conv2D)       (None, 11, 11, 512)       2359808   \n",
            "                                                                 \n",
            " block5_pool (MaxPooling2D)  (None, 5, 5, 512)         0         \n",
            "                                                                 \n",
            "=================================================================\n",
            "Total params: 14,714,688\n",
            "Trainable params: 14,714,688\n",
            "Non-trainable params: 0\n",
            "_________________________________________________________________\n"
          ]
        }
      ]
    },
    {
      "cell_type": "markdown",
      "source": [
        ""
      ],
      "metadata": {
        "id": "78KGA1qOIjDa"
      }
    },
    {
      "cell_type": "markdown",
      "source": [
        "\n",
        "\n",
        "Feature extraction without data augmentation using a pretrained model \n",
        "\n",
        "\n",
        "Extracting the VGG 6 features and corresponding labels"
      ],
      "metadata": {
        "id": "fSK05a1oEUiG"
      }
    },
    {
      "cell_type": "code",
      "source": [
        "import numpy as np\n",
        "\n",
        "def get_features_and_labels(dataset):\n",
        "    all_features = []\n",
        "    all_labels = []\n",
        "    for images, labels in dataset:\n",
        "        preprocessed_images = keras.applications.vgg16.preprocess_input(images)\n",
        "        features = conv_base.predict(preprocessed_images)\n",
        "        all_features.append(features)\n",
        "        all_labels.append(labels)\n",
        "    return np.concatenate(all_features), np.concatenate(all_labels)\n",
        "\n",
        "train_features, train_labels =  get_features_and_labels(train_dataset)\n",
        "val_features, val_labels =  get_features_and_labels(validation_dataset)\n",
        "test_features, test_labels =  get_features_and_labels(test_dataset)"
      ],
      "metadata": {
        "id": "LYq-XWn5JZzM"
      },
      "execution_count": 34,
      "outputs": []
    },
    {
      "cell_type": "code",
      "source": [
        "train_features.shape"
      ],
      "metadata": {
        "colab": {
          "base_uri": "https://localhost:8080/"
        },
        "id": "xbH0Z0pdqYjQ",
        "outputId": "610e7b6f-ae1f-47f5-d2f9-1daade6e2634"
      },
      "execution_count": 35,
      "outputs": [
        {
          "output_type": "execute_result",
          "data": {
            "text/plain": [
              "(2000, 5, 5, 512)"
            ]
          },
          "metadata": {},
          "execution_count": 35
        }
      ]
    },
    {
      "cell_type": "markdown",
      "source": [
        "Defining and training the densely connected classifier"
      ],
      "metadata": {
        "id": "s_9s_yVwEqQJ"
      }
    },
    {
      "cell_type": "markdown",
      "source": [
        ""
      ],
      "metadata": {
        "id": "tkAZgNwvqewi"
      }
    },
    {
      "cell_type": "code",
      "source": [
        "inputs = keras.Input(shape=(5, 5, 512))\n",
        "x = layers.Flatten()(inputs)\n",
        "x = layers.Dense(256)(x)\n",
        "x = layers.Dropout(0.5)(x)\n",
        "outputs = layers.Dense(1, activation=\"sigmoid\")(x)\n",
        "model = keras.Model(inputs, outputs)\n",
        "model.compile(loss=\"binary_crossentropy\",\n",
        "              optimizer=\"rmsprop\",\n",
        "              metrics=[\"accuracy\"])\n",
        "\n",
        "callbacks = [\n",
        "    keras.callbacks.ModelCheckpoint(\n",
        "      filepath=\"feature_extraction.keras\",\n",
        "      save_best_only=True,\n",
        "      monitor=\"val_loss\")\n",
        "]\n",
        "history = model.fit(\n",
        "    train_features, train_labels,\n",
        "    epochs=20,\n",
        "    validation_data=(val_features, val_labels),\n",
        "    callbacks=callbacks)"
      ],
      "metadata": {
        "colab": {
          "base_uri": "https://localhost:8080/"
        },
        "id": "hgwsUJrjqfC2",
        "outputId": "2f561923-c14a-4d6f-9527-ee37867ca8de"
      },
      "execution_count": 36,
      "outputs": [
        {
          "output_type": "stream",
          "name": "stdout",
          "text": [
            "Epoch 1/20\n",
            "63/63 [==============================] - 2s 13ms/step - loss: 16.0365 - accuracy: 0.9235 - val_loss: 16.2091 - val_accuracy: 0.9240\n",
            "Epoch 2/20\n",
            "63/63 [==============================] - 1s 11ms/step - loss: 3.1883 - accuracy: 0.9760 - val_loss: 9.4183 - val_accuracy: 0.9530\n",
            "Epoch 3/20\n",
            "63/63 [==============================] - 1s 11ms/step - loss: 1.8308 - accuracy: 0.9865 - val_loss: 5.6302 - val_accuracy: 0.9720\n",
            "Epoch 4/20\n",
            "63/63 [==============================] - 1s 11ms/step - loss: 2.4453 - accuracy: 0.9830 - val_loss: 4.3547 - val_accuracy: 0.9740\n",
            "Epoch 5/20\n",
            "63/63 [==============================] - 1s 9ms/step - loss: 1.1060 - accuracy: 0.9920 - val_loss: 5.9848 - val_accuracy: 0.9700\n",
            "Epoch 6/20\n",
            "63/63 [==============================] - 1s 9ms/step - loss: 0.3547 - accuracy: 0.9950 - val_loss: 5.4871 - val_accuracy: 0.9750\n",
            "Epoch 7/20\n",
            "63/63 [==============================] - 1s 10ms/step - loss: 0.6054 - accuracy: 0.9940 - val_loss: 4.9794 - val_accuracy: 0.9750\n",
            "Epoch 8/20\n",
            "63/63 [==============================] - 1s 10ms/step - loss: 1.1588 - accuracy: 0.9960 - val_loss: 6.2248 - val_accuracy: 0.9710\n",
            "Epoch 9/20\n",
            "63/63 [==============================] - 1s 9ms/step - loss: 0.0591 - accuracy: 0.9995 - val_loss: 6.5110 - val_accuracy: 0.9750\n",
            "Epoch 10/20\n",
            "63/63 [==============================] - 1s 9ms/step - loss: 0.2133 - accuracy: 0.9985 - val_loss: 5.1242 - val_accuracy: 0.9760\n",
            "Epoch 11/20\n",
            "63/63 [==============================] - 1s 9ms/step - loss: 0.0750 - accuracy: 0.9990 - val_loss: 5.3156 - val_accuracy: 0.9790\n",
            "Epoch 12/20\n",
            "63/63 [==============================] - 1s 9ms/step - loss: 0.5263 - accuracy: 0.9960 - val_loss: 4.3731 - val_accuracy: 0.9780\n",
            "Epoch 13/20\n",
            "63/63 [==============================] - 1s 9ms/step - loss: 0.2995 - accuracy: 0.9985 - val_loss: 4.8748 - val_accuracy: 0.9760\n",
            "Epoch 14/20\n",
            "63/63 [==============================] - 1s 10ms/step - loss: 0.2925 - accuracy: 0.9970 - val_loss: 5.7415 - val_accuracy: 0.9740\n",
            "Epoch 15/20\n",
            "63/63 [==============================] - 1s 9ms/step - loss: 0.3816 - accuracy: 0.9965 - val_loss: 5.6980 - val_accuracy: 0.9760\n",
            "Epoch 16/20\n",
            "63/63 [==============================] - 1s 9ms/step - loss: 0.1685 - accuracy: 0.9985 - val_loss: 5.1008 - val_accuracy: 0.9750\n",
            "Epoch 17/20\n",
            "63/63 [==============================] - 1s 9ms/step - loss: 0.3572 - accuracy: 0.9980 - val_loss: 6.7794 - val_accuracy: 0.9750\n",
            "Epoch 18/20\n",
            "63/63 [==============================] - 1s 9ms/step - loss: 0.2020 - accuracy: 0.9985 - val_loss: 5.6596 - val_accuracy: 0.9790\n",
            "Epoch 19/20\n",
            "63/63 [==============================] - 1s 9ms/step - loss: 0.1147 - accuracy: 0.9975 - val_loss: 6.2902 - val_accuracy: 0.9760\n",
            "Epoch 20/20\n",
            "63/63 [==============================] - 1s 10ms/step - loss: 0.1895 - accuracy: 0.9970 - val_loss: 7.0923 - val_accuracy: 0.9730\n"
          ]
        }
      ]
    },
    {
      "cell_type": "markdown",
      "source": [
        "Plotting the results"
      ],
      "metadata": {
        "id": "vYQs97iJE3Zm"
      }
    },
    {
      "cell_type": "code",
      "source": [
        "import matplotlib.pyplot as plt\n",
        "acc = history.history[\"accuracy\"]\n",
        "val_acc = history.history[\"val_accuracy\"]\n",
        "loss = history.history[\"loss\"]\n",
        "val_loss = history.history[\"val_loss\"]\n",
        "epochs = range(1, len(acc) + 1)\n",
        "plt.plot(epochs, acc, \"bo\", label=\"Training accuracy\")\n",
        "plt.plot(epochs, val_acc, \"b\", label=\"Validation accuracy\")\n",
        "plt.title(\"Training and validation accuracy\")\n",
        "plt.legend()\n",
        "plt.figure()\n",
        "plt.plot(epochs, loss, \"bo\", label=\"Training loss\")\n",
        "plt.plot(epochs, val_loss, \"b\", label=\"Validation loss\")\n",
        "plt.title(\"Training and validation loss\")\n",
        "plt.legend()\n",
        "plt.show()"
      ],
      "metadata": {
        "colab": {
          "base_uri": "https://localhost:8080/",
          "height": 545
        },
        "id": "I7lYsT9Yrm7C",
        "outputId": "e4163022-ecfb-4031-8a0d-4d97c962ed1f"
      },
      "execution_count": 37,
      "outputs": [
        {
          "output_type": "display_data",
          "data": {
            "text/plain": [
              "<Figure size 432x288 with 1 Axes>"
            ],
            "image/png": "[encoded data removed]"
          },
          "metadata": {
            "needs_background": "light"
          }
        },
        {
          "output_type": "display_data",
          "data": {
            "text/plain": [
              "<Figure size 432x288 with 1 Axes>"
            ],
            "image/png": "[encoded data removed]"
          },
          "metadata": {
            "needs_background": "light"
          }
        }
      ]
    },
    {
      "cell_type": "markdown",
      "source": [
        "\n",
        "Feature extraction with data augmentation using a pretrained model \n",
        "\n",
        "Instantiatin and freezing the VGG16 convolutional base"
      ],
      "metadata": {
        "id": "cr8VF1hkE9Kl"
      }
    },
    {
      "cell_type": "markdown",
      "source": [
        ""
      ],
      "metadata": {
        "id": "2kVA0CiwrtKI"
      }
    },
    {
      "cell_type": "markdown",
      "source": [
        "Printing the list of trainable weights before and after frezing"
      ],
      "metadata": {
        "id": "uFGfLBcNFVqh"
      }
    },
    {
      "cell_type": "code",
      "source": [
        "conv_base  = keras.applications.vgg16.VGG16(\n",
        "    weights=\"imagenet\",\n",
        "    include_top=False)\n",
        "conv_base.trainable = False"
      ],
      "metadata": {
        "id": "6tsYZeYUrt0f"
      },
      "execution_count": 38,
      "outputs": []
    },
    {
      "cell_type": "code",
      "source": [
        "conv_base.trainable = True\n",
        "print(\"This is the number of trainable weights \"\n",
        "      \"before freezing the conv base:\", len(conv_base.trainable_weights))"
      ],
      "metadata": {
        "colab": {
          "base_uri": "https://localhost:8080/"
        },
        "id": "onxfWFEArvsH",
        "outputId": "dd99196b-2373-4c7f-a1bd-ee4aae931283"
      },
      "execution_count": 39,
      "outputs": [
        {
          "output_type": "stream",
          "name": "stdout",
          "text": [
            "This is the number of trainable weights before freezing the conv base: 26\n"
          ]
        }
      ]
    },
    {
      "cell_type": "markdown",
      "source": [
        "Additing data argumantation and classifier to the convolutional base."
      ],
      "metadata": {
        "id": "1LPJQCc-r2sv"
      }
    },
    {
      "cell_type": "code",
      "source": [
        "data_augmentation = keras.Sequential(\n",
        "    [\n",
        "        layers.RandomFlip(\"horizontal\"),\n",
        "        layers.RandomRotation(0.1),\n",
        "        layers.RandomZoom(0.2),\n",
        "    ]\n",
        ")\n",
        "\n",
        "inputs = keras.Input(shape=(180, 180, 3))\n",
        "x = data_augmentation(inputs)\n",
        "x = keras.applications.vgg16.preprocess_input(x)\n",
        "x = conv_base(x)\n",
        "x = layers.Flatten()(x)\n",
        "x = layers.Dense(256)(x)\n",
        "x = layers.Dropout(0.5)(x)\n",
        "outputs = layers.Dense(1, activation=\"sigmoid\")(x)\n",
        "model = keras.Model(inputs, outputs)\n",
        "model.compile(loss=\"binary_crossentropy\",\n",
        "              optimizer=\"rmsprop\",\n",
        "              metrics=[\"accuracy\"])"
      ],
      "metadata": {
        "id": "E6Fkjnajr7Pv"
      },
      "execution_count": 40,
      "outputs": []
    },
    {
      "cell_type": "code",
      "source": [
        "callbacks = [\n",
        "    keras.callbacks.ModelCheckpoint(\n",
        "        filepath=\"feature_extraction_with_data_augmentation.keras\",\n",
        "        save_best_only=True,\n",
        "        monitor=\"val_loss\")\n",
        "]\n",
        "history = model.fit(\n",
        "    train_dataset,\n",
        "    epochs=50,\n",
        "    validation_data=validation_dataset,\n",
        "    callbacks=callbacks)"
      ],
      "metadata": {
        "colab": {
          "base_uri": "https://localhost:8080/"
        },
        "id": "XQwZnjRqr-qK",
        "outputId": "576c3096-8338-4050-c97d-fe580a0058a6"
      },
      "execution_count": 41,
      "outputs": [
        {
          "output_type": "stream",
          "name": "stdout",
          "text": [
            "Epoch 1/50\n",
            "63/63 [==============================] - 56s 778ms/step - loss: 3165.1860 - accuracy: 0.5085 - val_loss: 0.6762 - val_accuracy: 0.5680\n",
            "Epoch 2/50\n",
            "63/63 [==============================] - 46s 731ms/step - loss: 4.6072 - accuracy: 0.5380 - val_loss: 0.6781 - val_accuracy: 0.5900\n",
            "Epoch 3/50\n",
            "63/63 [==============================] - 46s 730ms/step - loss: 0.7550 - accuracy: 0.5360 - val_loss: 0.7020 - val_accuracy: 0.4500\n",
            "Epoch 4/50\n",
            "63/63 [==============================] - 46s 727ms/step - loss: 2.6207 - accuracy: 0.5090 - val_loss: 0.6937 - val_accuracy: 0.5000\n",
            "Epoch 5/50\n",
            "63/63 [==============================] - 46s 725ms/step - loss: 0.6939 - accuracy: 0.4910 - val_loss: 0.6936 - val_accuracy: 0.5000\n",
            "Epoch 6/50\n",
            "63/63 [==============================] - 46s 722ms/step - loss: 0.6938 - accuracy: 0.4925 - val_loss: 0.6934 - val_accuracy: 0.5000\n",
            "Epoch 7/50\n",
            "63/63 [==============================] - 46s 721ms/step - loss: 0.6935 - accuracy: 0.5035 - val_loss: 0.6933 - val_accuracy: 0.5000\n",
            "Epoch 8/50\n",
            "63/63 [==============================] - 46s 721ms/step - loss: 0.6938 - accuracy: 0.4980 - val_loss: 0.6935 - val_accuracy: 0.5000\n",
            "Epoch 9/50\n",
            "63/63 [==============================] - 46s 721ms/step - loss: 0.6942 - accuracy: 0.4790 - val_loss: 0.6932 - val_accuracy: 0.5000\n",
            "Epoch 10/50\n",
            "63/63 [==============================] - 46s 721ms/step - loss: 0.6942 - accuracy: 0.4815 - val_loss: 0.6932 - val_accuracy: 0.5000\n",
            "Epoch 11/50\n",
            "63/63 [==============================] - 46s 723ms/step - loss: 0.6935 - accuracy: 0.5010 - val_loss: 0.6932 - val_accuracy: 0.5000\n",
            "Epoch 12/50\n",
            "63/63 [==============================] - 46s 722ms/step - loss: 0.6931 - accuracy: 0.5105 - val_loss: 0.6933 - val_accuracy: 0.5000\n",
            "Epoch 13/50\n",
            "63/63 [==============================] - 46s 721ms/step - loss: 0.6940 - accuracy: 0.4925 - val_loss: 0.6932 - val_accuracy: 0.5000\n",
            "Epoch 14/50\n",
            "63/63 [==============================] - 46s 720ms/step - loss: 0.6939 - accuracy: 0.4870 - val_loss: 0.6933 - val_accuracy: 0.5000\n",
            "Epoch 15/50\n",
            "63/63 [==============================] - 46s 722ms/step - loss: 0.6935 - accuracy: 0.5045 - val_loss: 0.6932 - val_accuracy: 0.5000\n",
            "Epoch 16/50\n",
            "63/63 [==============================] - 46s 720ms/step - loss: 0.6936 - accuracy: 0.4975 - val_loss: 0.6933 - val_accuracy: 0.5000\n",
            "Epoch 17/50\n",
            "63/63 [==============================] - 46s 721ms/step - loss: 0.6937 - accuracy: 0.4995 - val_loss: 0.6932 - val_accuracy: 0.5000\n",
            "Epoch 18/50\n",
            "63/63 [==============================] - 46s 721ms/step - loss: 0.6933 - accuracy: 0.5100 - val_loss: 0.6934 - val_accuracy: 0.5000\n",
            "Epoch 19/50\n",
            "63/63 [==============================] - 46s 721ms/step - loss: 0.6943 - accuracy: 0.4800 - val_loss: 0.6932 - val_accuracy: 0.5000\n",
            "Epoch 20/50\n",
            "63/63 [==============================] - 46s 721ms/step - loss: 0.6933 - accuracy: 0.5120 - val_loss: 0.6932 - val_accuracy: 0.5000\n",
            "Epoch 21/50\n",
            "63/63 [==============================] - 46s 721ms/step - loss: 0.6933 - accuracy: 0.5005 - val_loss: 0.6933 - val_accuracy: 0.5000\n",
            "Epoch 22/50\n",
            "63/63 [==============================] - 46s 721ms/step - loss: 0.6931 - accuracy: 0.5160 - val_loss: 0.6932 - val_accuracy: 0.5000\n",
            "Epoch 23/50\n",
            "63/63 [==============================] - 46s 719ms/step - loss: 0.6934 - accuracy: 0.4925 - val_loss: 0.6932 - val_accuracy: 0.5000\n",
            "Epoch 24/50\n",
            "63/63 [==============================] - 46s 720ms/step - loss: 0.6932 - accuracy: 0.4975 - val_loss: 0.6934 - val_accuracy: 0.5000\n",
            "Epoch 25/50\n",
            "63/63 [==============================] - 46s 720ms/step - loss: 0.6940 - accuracy: 0.4850 - val_loss: 0.6932 - val_accuracy: 0.5000\n",
            "Epoch 26/50\n",
            "63/63 [==============================] - 46s 721ms/step - loss: 0.6935 - accuracy: 0.4945 - val_loss: 0.6934 - val_accuracy: 0.5000\n",
            "Epoch 27/50\n",
            "63/63 [==============================] - 46s 720ms/step - loss: 0.6932 - accuracy: 0.5035 - val_loss: 0.6934 - val_accuracy: 0.5000\n",
            "Epoch 28/50\n",
            "63/63 [==============================] - 46s 720ms/step - loss: 0.6941 - accuracy: 0.4900 - val_loss: 0.6932 - val_accuracy: 0.5000\n",
            "Epoch 29/50\n",
            "63/63 [==============================] - 46s 720ms/step - loss: 0.6932 - accuracy: 0.4945 - val_loss: 0.6932 - val_accuracy: 0.5000\n",
            "Epoch 30/50\n",
            "63/63 [==============================] - 46s 722ms/step - loss: 0.6941 - accuracy: 0.4820 - val_loss: 0.6932 - val_accuracy: 0.5000\n",
            "Epoch 31/50\n",
            "63/63 [==============================] - 46s 725ms/step - loss: 0.6941 - accuracy: 0.4810 - val_loss: 0.6935 - val_accuracy: 0.5000\n",
            "Epoch 32/50\n",
            "63/63 [==============================] - 46s 725ms/step - loss: 0.6943 - accuracy: 0.4800 - val_loss: 0.6932 - val_accuracy: 0.5000\n",
            "Epoch 33/50\n",
            "63/63 [==============================] - 46s 723ms/step - loss: 0.6946 - accuracy: 0.4850 - val_loss: 0.6933 - val_accuracy: 0.5000\n",
            "Epoch 34/50\n",
            "63/63 [==============================] - 46s 723ms/step - loss: 0.6938 - accuracy: 0.5040 - val_loss: 0.6933 - val_accuracy: 0.5000\n",
            "Epoch 35/50\n",
            "63/63 [==============================] - 46s 724ms/step - loss: 0.6934 - accuracy: 0.5075 - val_loss: 0.6932 - val_accuracy: 0.5000\n",
            "Epoch 36/50\n",
            "63/63 [==============================] - 46s 724ms/step - loss: 0.6937 - accuracy: 0.5185 - val_loss: 0.6932 - val_accuracy: 0.5000\n",
            "Epoch 37/50\n",
            "63/63 [==============================] - 46s 724ms/step - loss: 0.6935 - accuracy: 0.5100 - val_loss: 0.6934 - val_accuracy: 0.5000\n",
            "Epoch 38/50\n",
            "63/63 [==============================] - 46s 725ms/step - loss: 0.6937 - accuracy: 0.4930 - val_loss: 0.6934 - val_accuracy: 0.5000\n",
            "Epoch 39/50\n",
            "63/63 [==============================] - 46s 725ms/step - loss: 0.6935 - accuracy: 0.4935 - val_loss: 0.6935 - val_accuracy: 0.5000\n",
            "Epoch 40/50\n",
            "63/63 [==============================] - 46s 724ms/step - loss: 0.6942 - accuracy: 0.4830 - val_loss: 0.6936 - val_accuracy: 0.5000\n",
            "Epoch 41/50\n",
            "63/63 [==============================] - 46s 722ms/step - loss: 0.6939 - accuracy: 0.4955 - val_loss: 0.6934 - val_accuracy: 0.5000\n",
            "Epoch 42/50\n",
            "63/63 [==============================] - 46s 724ms/step - loss: 0.6947 - accuracy: 0.4845 - val_loss: 0.6932 - val_accuracy: 0.5000\n",
            "Epoch 43/50\n",
            "63/63 [==============================] - 46s 725ms/step - loss: 0.6938 - accuracy: 0.5025 - val_loss: 0.6932 - val_accuracy: 0.5000\n",
            "Epoch 44/50\n",
            "63/63 [==============================] - 46s 724ms/step - loss: 0.6935 - accuracy: 0.5045 - val_loss: 0.6931 - val_accuracy: 0.5000\n",
            "Epoch 45/50\n",
            "63/63 [==============================] - 46s 724ms/step - loss: 0.6937 - accuracy: 0.4990 - val_loss: 0.6932 - val_accuracy: 0.5000\n",
            "Epoch 46/50\n",
            "63/63 [==============================] - 46s 725ms/step - loss: 0.6942 - accuracy: 0.4990 - val_loss: 0.6932 - val_accuracy: 0.5000\n",
            "Epoch 47/50\n",
            "63/63 [==============================] - 46s 723ms/step - loss: 0.6938 - accuracy: 0.5005 - val_loss: 0.6932 - val_accuracy: 0.5000\n",
            "Epoch 48/50\n",
            "63/63 [==============================] - 46s 723ms/step - loss: 0.6934 - accuracy: 0.4970 - val_loss: 0.6932 - val_accuracy: 0.5000\n",
            "Epoch 49/50\n",
            "63/63 [==============================] - 46s 723ms/step - loss: 0.6934 - accuracy: 0.4840 - val_loss: 0.6932 - val_accuracy: 0.5000\n",
            "Epoch 50/50\n",
            "63/63 [==============================] - 46s 725ms/step - loss: 0.6933 - accuracy: 0.4920 - val_loss: 0.6933 - val_accuracy: 0.5000\n"
          ]
        }
      ]
    },
    {
      "cell_type": "markdown",
      "source": [
        "\n",
        "Evaluting the model on the test set "
      ],
      "metadata": {
        "id": "_f9habguF49K"
      }
    },
    {
      "cell_type": "code",
      "source": [
        "test_model = keras.models.load_model(\n",
        "    \"feature_extraction_with_data_augmentation.keras\")\n",
        "test_loss, test_acc = test_model.evaluate(test_dataset)\n",
        "print(f\"Test accuracy: {test_acc:.3f}\")"
      ],
      "metadata": {
        "colab": {
          "base_uri": "https://localhost:8080/"
        },
        "id": "ciXnmHBo7uiz",
        "outputId": "6e6e5093-53a6-4128-f6fb-3a36796c1af9"
      },
      "execution_count": 44,
      "outputs": [
        {
          "output_type": "stream",
          "name": "stdout",
          "text": [
            "32/32 [==============================] - 8s 217ms/step - loss: 0.6765 - accuracy: 0.5820\n",
            "Test accuracy: 0.582\n"
          ]
        }
      ]
    },
    {
      "cell_type": "markdown",
      "source": [
        "Summary - To summarise this report , we are using and keras package library. \n",
        "Where our goal is to draw to detect the image is it a cat or dog. Further we build the model and plot the accuracy and loss of validation and test set . This is to infer that the model has build with repect to Training a convent from scratch.\n",
        "To infer - the model performance as training sample size increases accuary increases and loss is decreased  .\n",
        "\n",
        " Firstly , training a small convnet on the 1,000 training samples, without any optimization to set a baseline which got us a classification accuracy - 71% Here we can see overfitting of data . Further used Data agumentation and other optimization techniqies which determines the optimal number of epochs. By using data augmentation we can improved the model accuracy by .\n",
        "To add on then implemented optimal training sample to increase classification accuracy 82%.\n",
        "The model is achieved 82% accuracy.\n",
        "Here we used  2D conv layer and a 2 Dmax pooling layer and then flattern layer\n",
        " where Input shape is ( 180,180,3)\n",
        "Number of channels used is 32.\n",
        "Classification network 2 layers - hidden layer - 12544 Final layer - 1 Training parameter are - 991,041.\n",
        "\n",
        "\n",
        "Further we try to find the optimal sample to increase classification accuracy. Observation made by the manipulation of training sample and usage of other optimization techniques that the best way prevent overfitting are-\n",
        "Firstly getting more training samples by increasing. the training sample is not always possible. One waay of optimally using the less training sample is Data Augmentation.\n",
        "Secondly reducing the capacity of network by reducing the size of the model .\n",
        "The numnber of learnable parameters in the model which is required are tge number of layers and the number of units in layers and prevets overfitting.\n",
        "Further adding weight regularization adding constraints on the complexity of the network by forcing the weights to take only small values.which inturn minimizing overfitting.\n",
        "Lastly adding dropout -the dropout rate are in fraction of feactures that rae zeroed out.\n",
        "Now using pretrained network. The sample size id different from the inital network\n",
        "A pretrained VGG16 model with Fine-tuning is used \n",
        "To Note the  performance of validation accuracy  - \n",
        "which is better achieved while training a small model.The plot indicates that overfitting mostly start to dropout in large rate. As mentioned data augmentationprevents overfitting with small images datasets.\n",
        "To sum up -\n",
        "Pretrained model with Augmentation there was just a minor increase in the accuarcy \n",
        "Uisng Pretained model with fine tuning my test accuracy of 97%. Accuracy results might change. \n",
        "\n",
        " \n",
        "\n",
        "Reference -\n",
        "2 \n",
        "\n",
        "loss: 0.5164 \n",
        "\n",
        "accuracy: 0.7710 \n",
        "\n",
        "Test accuracy: 0.771 \n",
        "\n",
        " \n",
        "\n",
        "3 \n",
        "\n",
        "loss: 0.5109 - \n",
        "\n",
        "accuracy: 0.7610 \n",
        "\n",
        "Test accuracy: 0.761 \n",
        "\n",
        " \n",
        "\n",
        "4 \n",
        "\n",
        "loss: 0.6765 \n",
        "\n",
        "accuracy: 0.5820 \n",
        "\n",
        "Test accuracy: 0.582 \n",
        "\n",
        " \n",
        "\n",
        "\n",
        "\n",
        "\n"
      ],
      "metadata": {
        "id": "2hgUWfEy7uBN"
      }
    }
  ]
}